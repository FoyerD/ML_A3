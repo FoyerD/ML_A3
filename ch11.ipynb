{
 "cells": [
  {
   "cell_type": "markdown",
   "metadata": {
    "tags": []
   },
   "source": [
    "# Machine Learning with PyTorch and Scikit-Learn  \n",
    "# -- Code Examples"
   ]
  },
  {
   "cell_type": "markdown",
   "metadata": {},
   "source": [
    "## Package version checks"
   ]
  },
  {
   "cell_type": "markdown",
   "metadata": {},
   "source": [
    "Add folder to path in order to load from the check_packages.py script:"
   ]
  },
  {
   "cell_type": "code",
   "execution_count": 1,
   "metadata": {},
   "outputs": [],
   "source": [
    "import sys\n",
    "sys.path.insert(0, '..')"
   ]
  },
  {
   "cell_type": "markdown",
   "metadata": {},
   "source": [
    "Check recommended package versions:"
   ]
  },
  {
   "cell_type": "markdown",
   "metadata": {},
   "source": [
    "- [Modeling complex functions with artificial neural networks](#Modeling-complex-functions-with-artificial-neural-networks)\n",
    "  - [Single-layer neural network recap](#Single-layer-neural-network-recap)\n",
    "  - [Introducing the multi-layer neural network architecture](#Introducing-the-multi-layer-neural-network-architecture)\n",
    "  - [Activating a neural network via forward propagation](#Activating-a-neural-network-via-forward-propagation)\n",
    "- [Classifying handwritten digits](#Classifying-handwritten-digits)\n",
    "  - [Obtaining the MNIST dataset](#Obtaining-the-MNIST-dataset)\n",
    "  - [Implementing a multi-layer perceptron](#Implementing-a-multi-layer-perceptron)\n",
    "  - [Coding the neural network training loop](#Coding-the-neural-network-training-loop)\n",
    "  - [Evaluating the neural network performance](#Evaluating-the-neural-network-performance)\n",
    "- [Training an artificial neural network](#Training-an-artificial-neural-network)\n",
    "  - [Computing the loss function](#Computing-the-loss-function)\n",
    "  - [Developing your intuition for backpropagation](#Developing-your-intuition-for-backpropagation)\n",
    "  - [Training neural networks via backpropagation](#Training-neural-networks-via-backpropagation)\n",
    "- [Convergence in neural networks](#Convergence-in-neural-networks)\n",
    "- [Summary](#Summary)"
   ]
  },
  {
   "cell_type": "markdown",
   "metadata": {},
   "source": [
    "# Modeling complex functions with artificial neural networks"
   ]
  },
  {
   "cell_type": "markdown",
   "metadata": {},
   "source": [
    "## Obtaining and preparing the MNIST dataset"
   ]
  },
  {
   "cell_type": "markdown",
   "metadata": {},
   "source": [
    "The MNIST dataset is publicly available at http://yann.lecun.com/exdb/mnist/ and consists of the following four parts:\n",
    "\n",
    "- Training set images: train-images-idx3-ubyte.gz (9.9 MB, 47 MB unzipped, 60,000 examples)\n",
    "- Training set labels: train-labels-idx1-ubyte.gz (29 KB, 60 KB unzipped, 60,000 labels)\n",
    "- Test set images: t10k-images-idx3-ubyte.gz (1.6 MB, 7.8 MB, 10,000 examples)\n",
    "- Test set labels: t10k-labels-idx1-ubyte.gz (5 KB, 10 KB unzipped, 10,000 labels)\n",
    "\n"
   ]
  },
  {
   "cell_type": "code",
   "execution_count": 1,
   "metadata": {},
   "outputs": [
    {
     "name": "stdout",
     "output_type": "stream",
     "text": [
      "(70000, 784)\n",
      "(70000,)\n"
     ]
    }
   ],
   "source": [
    "from sklearn.datasets import fetch_openml\n",
    "\n",
    "\n",
    "X, y = fetch_openml('mnist_784', version=1, return_X_y=True)\n",
    "X = X.values\n",
    "y = y.astype(int).values\n",
    "\n",
    "print(X.shape)\n",
    "print(y.shape)"
   ]
  },
  {
   "cell_type": "markdown",
   "metadata": {},
   "source": [
    "Normalize to [-1, 1] range:"
   ]
  },
  {
   "cell_type": "code",
   "execution_count": 2,
   "metadata": {},
   "outputs": [],
   "source": [
    "X = ((X / 255.) - .5) * 2"
   ]
  },
  {
   "cell_type": "markdown",
   "metadata": {},
   "source": [
    "Split into training, validation, and test set:"
   ]
  },
  {
   "cell_type": "code",
   "execution_count": 3,
   "metadata": {},
   "outputs": [],
   "source": [
    "from sklearn.model_selection import train_test_split\n",
    "from math import ceil\n",
    "\n",
    "X_temp, X_test, y_temp, y_test = train_test_split(\n",
    "    X, y, test_size=ceil(len(X)*0.3), random_state=123, stratify=y)\n",
    "\n",
    "X_train, X_valid, y_train, y_valid = train_test_split(\n",
    "    X_temp, y_temp, test_size=ceil(len(X_temp)*0.1), random_state=123, stratify=y_temp)\n",
    "\n",
    "\n"
   ]
  },
  {
   "cell_type": "markdown",
   "metadata": {},
   "source": [
    "<br>\n",
    "<br>"
   ]
  },
  {
   "cell_type": "markdown",
   "metadata": {},
   "source": [
    "## Implementing a multi-layer perceptron"
   ]
  },
  {
   "cell_type": "code",
   "execution_count": 4,
   "metadata": {},
   "outputs": [],
   "source": [
    "import numpy as np"
   ]
  },
  {
   "cell_type": "markdown",
   "metadata": {},
   "source": [
    "#### MODEL"
   ]
  },
  {
   "cell_type": "code",
   "execution_count": 5,
   "metadata": {},
   "outputs": [],
   "source": [
    "def sigmoid(z):                                        \n",
    "    return 1. / (1. + np.exp(-z))\n",
    "\n",
    "def int_to_onehot(y, num_labels):\n",
    "\n",
    "    ary = np.zeros((y.shape[0], num_labels))\n",
    "    for i, val in enumerate(y):\n",
    "        ary[i, val] = 1\n",
    "\n",
    "    return ary\n",
    "\n",
    "\n",
    "class NeuralNetMLP:\n",
    "\n",
    "    def __init__(self, num_features, num_hidden, num_classes, random_seed=123):\n",
    "        super().__init__()\n",
    "        \n",
    "        self.num_classes = num_classes\n",
    "        \n",
    "        # hidden\n",
    "        rng = np.random.RandomState(random_seed)\n",
    "        \n",
    "        self.weight_h = rng.normal(\n",
    "            loc=0.0, scale=0.1, size=(num_hidden, num_features))\n",
    "        self.bias_h = np.zeros(num_hidden)\n",
    "        \n",
    "        # output\n",
    "        self.weight_out = rng.normal(\n",
    "            loc=0.0, scale=0.1, size=(num_classes, num_hidden))\n",
    "        self.bias_out = np.zeros(num_classes)\n",
    "        \n",
    "    def forward(self, x):\n",
    "        # Hidden layer\n",
    "        # input dim: [n_examples, n_features] dot [n_hidden, n_features].T\n",
    "        # output dim: [n_examples, n_hidden]\n",
    "        z_h = np.dot(x, self.weight_h.T) + self.bias_h\n",
    "        a_h = sigmoid(z_h)\n",
    "\n",
    "        # Output layer\n",
    "        # input dim: [n_examples, n_hidden] dot [n_classes, n_hidden].T\n",
    "        # output dim: [n_examples, n_classes]\n",
    "        z_out = np.dot(a_h, self.weight_out.T) + self.bias_out\n",
    "        a_out = sigmoid(z_out)\n",
    "        return a_h, a_out\n",
    "\n",
    "    def backward(self, x, a_h, a_out, y):  \n",
    "    \n",
    "        #########################\n",
    "        ### Output layer weights\n",
    "        #########################\n",
    "        \n",
    "        # onehot encoding\n",
    "        y_onehot = int_to_onehot(y, self.num_classes)\n",
    "\n",
    "        # Part 1: dLoss/dOutWeights\n",
    "        ## = dLoss/dOutAct * dOutAct/dOutNet * dOutNet/dOutWeight\n",
    "        ## where DeltaOut = dLoss/dOutAct * dOutAct/dOutNet\n",
    "        ## for convenient re-use\n",
    "        \n",
    "        # input/output dim: [n_examples, n_classes]\n",
    "        d_loss__d_a_out = 2.*(a_out - y_onehot) / y.shape[0]\n",
    "\n",
    "        # input/output dim: [n_examples, n_classes]\n",
    "        d_a_out__d_z_out = a_out * (1. - a_out) # sigmoid derivative\n",
    "\n",
    "        # output dim: [n_examples, n_classes]\n",
    "        delta_out = d_loss__d_a_out * d_a_out__d_z_out # \"delta (rule) placeholder\"\n",
    "\n",
    "        # gradient for output weights\n",
    "        \n",
    "        # [n_examples, n_hidden]\n",
    "        d_z_out__dw_out = a_h\n",
    "        \n",
    "        # input dim: [n_classes, n_examples] dot [n_examples, n_hidden]\n",
    "        # output dim: [n_classes, n_hidden]\n",
    "        d_loss__dw_out = np.dot(delta_out.T, d_z_out__dw_out)\n",
    "        d_loss__db_out = np.sum(delta_out, axis=0)\n",
    "        \n",
    "\n",
    "        #################################        \n",
    "        # Part 2: dLoss/dHiddenWeights\n",
    "        ## = DeltaOut * dOutNet/dHiddenAct * dHiddenAct/dHiddenNet * dHiddenNet/dWeight\n",
    "        \n",
    "        # [n_classes, n_hidden]\n",
    "        d_z_out__a_h = self.weight_out\n",
    "        \n",
    "        # output dim: [n_examples, n_hidden]\n",
    "        d_loss__a_h = np.dot(delta_out, d_z_out__a_h)\n",
    "        \n",
    "        # [n_examples, n_hidden]\n",
    "        d_a_h__d_z_h = a_h * (1. - a_h) # sigmoid derivative\n",
    "        \n",
    "        # [n_examples, n_features]\n",
    "        d_z_h__d_w_h = x\n",
    "        \n",
    "        # output dim: [n_hidden, n_features]\n",
    "        d_loss__d_w_h = np.dot((d_loss__a_h * d_a_h__d_z_h).T, d_z_h__d_w_h)\n",
    "        d_loss__d_b_h = np.sum((d_loss__a_h * d_a_h__d_z_h), axis=0)\n",
    "\n",
    "        return (d_loss__dw_out, d_loss__db_out, \n",
    "                d_loss__d_w_h, d_loss__d_b_h)"
   ]
  },
  {
   "cell_type": "markdown",
   "metadata": {},
   "source": [
    "### TWO LAYER MODEL - OUR IMPLEMENTATION"
   ]
  },
  {
   "cell_type": "code",
   "execution_count": 6,
   "metadata": {},
   "outputs": [],
   "source": [
    "class NeuralNetMLP2L:\n",
    "\n",
    "    def __init__(self, num_features, num_hidden_h1, num_hidden_h2, num_classes, random_seed=123):\n",
    "        super().__init__()\n",
    "        \n",
    "        self.num_classes = num_classes\n",
    "        \n",
    "        # hidden\n",
    "        rng = np.random.RandomState(random_seed)\n",
    "\n",
    "        # hidden layer 1\n",
    "        self.weight_h1 = rng.normal(\n",
    "            loc=0.0, scale=0.1, size=(num_hidden_h1, num_features))\n",
    "        self.bias_h1 = np.zeros(num_hidden_h1)\n",
    "        \n",
    "        # hidden layer 2\n",
    "        self.weight_h2 = rng.normal(\n",
    "            loc=0.0, scale=0.1, size=(num_hidden_h2, num_hidden_h1))\n",
    "        self.bias_h2 = np.zeros(num_hidden_h2)\n",
    "        \n",
    "        # output\n",
    "        self.weight_out = rng.normal(\n",
    "            loc=0.0, scale=0.1, size=(num_classes, num_hidden_h2))\n",
    "        self.bias_out = np.zeros(num_classes)\n",
    "        \n",
    "    def forward(self, x):\n",
    "        # Hidden layer 1\n",
    "        # input dim: [n_examples, n_features] dot [n_hidden_h1, n_features].T\n",
    "        # output dim: [n_examples, n_hidden_h1]\n",
    "        z_h1 = np.dot(x, self.weight_h1.T) + self.bias_h1\n",
    "        a_h1 = sigmoid(z_h1)\n",
    "\n",
    "        # Hidden layer 2\n",
    "        # input dim: [n_examples, n_hidden_h1] dot [n_hidden_h2, n_hidden_h1].T\n",
    "        # output dim: [n_examples, n_hidden_h2]\n",
    "        z_h2 = np.dot(a_h1, self.weight_h2.T) + self.bias_h2\n",
    "        a_h2 = sigmoid(z_h2)\n",
    "\n",
    "\n",
    "        # Output layer\n",
    "        # input dim: [n_examples, n_hidden_h2] dot [n_classes, n_hidden_h2].T\n",
    "        # output dim: [n_examples, n_classes]\n",
    "        z_out = np.dot(a_h2, self.weight_out.T) + self.bias_out\n",
    "        a_out = sigmoid(z_out)\n",
    "        return a_h1, a_h2, a_out\n",
    "\n",
    "    def backward(self, x, a_h1, a_h2, a_out, y):  \n",
    "    \n",
    "        #########################\n",
    "        ### Output layer weights\n",
    "        #########################\n",
    "        \n",
    "        # onehot encoding\n",
    "        y_onehot = int_to_onehot(y, self.num_classes)\n",
    "\n",
    "        # Part 1: dLoss/dOutWeights\n",
    "        ## = dLoss/dOutAct * dOutAct/dOutNet * dOutNet/dOutWeight\n",
    "        ## where DeltaOut = dLoss/dOutAct * dOutAct/dOutNet\n",
    "        ## for convenient re-use\n",
    "        \n",
    "        # input/output dim: [n_examples, n_classes]\n",
    "        d_loss__d_a_out = 2.*(a_out - y_onehot) / y.shape[0]\n",
    "\n",
    "        # input/output dim: [n_examples, n_classes]\n",
    "        d_a_out__d_z_out = a_out * (1. - a_out) # sigmoid derivative\n",
    "\n",
    "        # output dim: [n_examples, n_classes]\n",
    "        delta_out = d_loss__d_a_out * d_a_out__d_z_out # \"delta (rule) placeholder\"\n",
    "\n",
    "        # gradient for output weights\n",
    "        \n",
    "        # [n_examples, n_hidden_h2]\n",
    "        d_z_out__dw_out = a_h2\n",
    "        \n",
    "        # input dim: [n_classes, n_examples] dot [n_examples, n_hidden_h2]\n",
    "        # output dim: [n_classes, n_hidden_h2]\n",
    "        d_loss__dw_out = np.dot(delta_out.T, d_z_out__dw_out)\n",
    "        d_loss__db_out = np.sum(delta_out, axis=0)\n",
    "\n",
    "        #################################        \n",
    "        # Part 2: dLoss/dHiddenWeights2\n",
    "        ## = DeltaOut * dOutNet/dHiddenAct * dHiddenAct/dHiddenNet * dHiddenNet/dWeight\n",
    "        \n",
    "        # [n_classes, n_hidden_h2]\n",
    "        d_z_out__a_h2 = self.weight_out\n",
    "        \n",
    "        # output dim: [n_examples, n_hidden_h2]\n",
    "        d_loss__a_h2 = np.dot(delta_out, d_z_out__a_h2)\n",
    "        \n",
    "        # [n_examples, n_hidden_h2]\n",
    "        d_a_h__d_z_h2 = a_h2 * (1. - a_h2) # sigmoid derivative\n",
    "\n",
    "        # Delta for hidden layer 2\n",
    "        delta_h2 = d_loss__a_h2 * d_a_h__d_z_h2\n",
    "        \n",
    "        # [n_examples, n_hidden_h1]\n",
    "        d_z_h__d_w_h2 = a_h1\n",
    "        \n",
    "        # output dim: [n_hidden, n_hidden_h1]\n",
    "        d_loss__d_w_h2 = np.dot((d_loss__a_h2 * d_a_h__d_z_h2).T, d_z_h__d_w_h2)\n",
    "        d_loss__d_b_h2 = np.sum((d_loss__a_h2 * d_a_h__d_z_h2), axis=0)\n",
    "            \n",
    "\n",
    "        #################################        \n",
    "        # Part 3: dLoss/dHiddenWeights1\n",
    "        ## = DeltaOut * dOutNet/dHiddenAct * dHiddenAct/dHiddenNet * dHiddenNet/dWeight\n",
    "        \n",
    "        # [n_classes, n_hidden]\n",
    "        d_z_out__a_h1 = self.weight_h2\n",
    "        \n",
    "        # output dim: [n_examples, n_hidden]\n",
    "        d_loss__a_h1 = np.dot(delta_h2, d_z_out__a_h1)\n",
    "        \n",
    "        # [n_examples, n_hidden]\n",
    "        d_a_h__d_z_h1 = a_h1 * (1. - a_h1) # sigmoid derivative\n",
    "        \n",
    "        # [n_examples, n_features]\n",
    "        d_z_h__d_w_h1 = x\n",
    "        \n",
    "        # output dim: [n_hidden, n_features]\n",
    "        d_loss__d_w_h1 = np.dot((d_loss__a_h1 * d_a_h__d_z_h1).T, d_z_h__d_w_h1)\n",
    "        d_loss__d_b_h1 = np.sum((d_loss__a_h1 * d_a_h__d_z_h1), axis=0)\n",
    "\n",
    "        return (d_loss__dw_out, d_loss__db_out, \n",
    "                d_loss__d_w_h2, d_loss__d_b_h2,\n",
    "                d_loss__d_w_h1, d_loss__d_b_h1)"
   ]
  },
  {
   "cell_type": "markdown",
   "metadata": {},
   "source": [
    "## Coding the neural network training loop"
   ]
  },
  {
   "cell_type": "markdown",
   "metadata": {},
   "source": [
    "Defining data loaders:"
   ]
  },
  {
   "cell_type": "code",
   "execution_count": 7,
   "metadata": {},
   "outputs": [],
   "source": [
    "import torch\n",
    "from torch.nn import MSELoss\n",
    "from collections import OrderedDict\n",
    "import torch.nn as nn\n",
    "from torch.utils.data import DataLoader"
   ]
  },
  {
   "cell_type": "code",
   "execution_count": 8,
   "metadata": {},
   "outputs": [],
   "source": [
    "num_epochs = 50\n",
    "minibatch_size = 100\n",
    "LR = 0.05\n",
    "\n",
    "\n",
    "def minibatch_generator(X, y, minibatch_size):\n",
    "    indices = np.arange(X.shape[0])\n",
    "    np.random.shuffle(indices)\n",
    "\n",
    "    for start_idx in range(0, indices.shape[0] - minibatch_size \n",
    "                           + 1, minibatch_size):\n",
    "        batch_idx = indices[start_idx:start_idx + minibatch_size]\n",
    "        \n",
    "        yield X[batch_idx], y[batch_idx]\n",
    "\n",
    "def minibatch_generator_PT(X, y, minibatch_size):\n",
    "    indices = torch.arange(X.size(0))  # Create indices as a PyTorch tensor\n",
    "    indices = indices[torch.randperm(indices.size(0))]  # Shuffle indices\n",
    "\n",
    "    for start_idx in range(0, indices.size(0) - minibatch_size + 1, minibatch_size):\n",
    "        batch_idx = indices[start_idx:start_idx + minibatch_size]\n",
    "        \n",
    "        yield X[batch_idx], y[batch_idx]"
   ]
  },
  {
   "cell_type": "markdown",
   "metadata": {},
   "source": [
    "### Defining a function to compute the loss and accuracy"
   ]
  },
  {
   "cell_type": "code",
   "execution_count": 9,
   "metadata": {},
   "outputs": [],
   "source": [
    "def mse_loss(targets, probas, num_labels=10):\n",
    "    onehot_targets = int_to_onehot(targets, num_labels=num_labels)\n",
    "    return np.mean((onehot_targets - probas)**2)\n",
    "\n",
    "def accuracy(targets, predicted_labels):\n",
    "    return np.mean(predicted_labels == targets) "
   ]
  },
  {
   "cell_type": "code",
   "execution_count": 10,
   "metadata": {},
   "outputs": [],
   "source": [
    "from sklearn.metrics import roc_auc_score\n",
    "\n",
    "def compute_mse_acc_auc(nnet, X, y, num_labels=10, minibatch_size=minibatch_size):\n",
    "    mse, correct_pred, num_examples = 0., 0, 0\n",
    "    minibatch_gen = minibatch_generator(X, y, minibatch_size)\n",
    "    all_targets = []\n",
    "    all_predictions = []\n",
    "        \n",
    "    for i, (features, targets) in enumerate(minibatch_gen):\n",
    "\n",
    "        *_, probas = nnet.forward(features)\n",
    "        predicted_labels = np.argmax(probas, axis=1)\n",
    "        \n",
    "        onehot_targets = int_to_onehot(targets, num_labels=num_labels)\n",
    "        loss = np.mean((onehot_targets - probas)**2)\n",
    "        correct_pred += (predicted_labels == targets).sum()\n",
    "        \n",
    "        num_examples += targets.shape[0]\n",
    "        mse += loss\n",
    "         # Collect for AUC computation\n",
    "        all_targets.extend(onehot_targets)\n",
    "        all_predictions.extend(int_to_onehot(predicted_labels, num_labels=num_labels))\n",
    "\n",
    "    mse = mse/(i+1)\n",
    "    auc = roc_auc_score(\n",
    "        all_targets, all_predictions, multi_class='ovr', average='macro'\n",
    "    )\n",
    "    acc = correct_pred/num_examples\n",
    "    return mse, acc, auc"
   ]
  },
  {
   "cell_type": "code",
   "execution_count": 32,
   "metadata": {},
   "outputs": [],
   "source": [
    "import torch.nn.functional as F\n",
    "from sklearn.metrics import roc_auc_score\n",
    "\n",
    "def compute_mse_acc_auc_PT(nnet, X, y, num_labels=10, minibatch_size=minibatch_size):\n",
    "    # Save the initial training state\n",
    "    was_training = nnet.training\n",
    "    \n",
    "    # Set the model to evaluation mode\n",
    "    nnet.eval()\n",
    "    \n",
    "    mse = 0\n",
    "    correct_predictions = 0\n",
    "    total_samples = 0\n",
    "    all_targets = []\n",
    "    all_predictions = []\n",
    "    \n",
    "    with torch.no_grad():\n",
    "        # Minibatch processing\n",
    "        indices = torch.arange(X.size(0))\n",
    "        indices = indices[torch.randperm(indices.size(0))]\n",
    "        \n",
    "        for start_idx in range(0, indices.size(0), minibatch_size):\n",
    "            batch_idx = indices[start_idx:start_idx + minibatch_size]\n",
    "            X_batch, y_batch = X[batch_idx], y[batch_idx]\n",
    "            \n",
    "            # Forward pass\n",
    "            outputs = nnet(X_batch)\n",
    "            \n",
    "            # If y_batch is in class indices format, convert to one-hot encoding\n",
    "            if y_batch.ndim == 1:\n",
    "                y_batch_one_hot = F.one_hot(y_batch.type(torch.LongTensor), num_classes=num_labels).float()\n",
    "            else:\n",
    "                y_batch_one_hot = y_batch\n",
    "            \n",
    "            # Compute MSE\n",
    "            mse += F.mse_loss(outputs, y_batch_one_hot, reduction='mean').item()\n",
    "            \n",
    "            # Predictions and accuracy\n",
    "            predicted_classes = outputs.argmax(dim=1)\n",
    "            true_classes = y_batch if y_batch.ndim == 1 else y_batch.argmax(dim=1)\n",
    "            '''print(predicted_classes.reshape([predicted_classes.shape[0],1]).shape)\n",
    "            print(true_classes.reshape([true_classes.shape[0],1]).shape)\n",
    "            print(predicted_classes == true_classes)'''\n",
    "            correct_predictions += (predicted_classes.cpu().detach().numpy().reshape([predicted_classes.shape[0],1]) == true_classes.cpu().detach().numpy().reshape([true_classes.shape[0],1])).sum()\n",
    "            \n",
    "            # Collect for AUC computation\n",
    "            all_targets.extend(y_batch_one_hot.cpu().numpy())\n",
    "            all_predictions.extend(outputs.cpu().numpy())\n",
    "            \n",
    "            total_samples += X_batch.size(0)\n",
    "    \n",
    "    # Compute metrics\n",
    "    mse /= (start_idx+1)\n",
    "    acc = correct_predictions / total_samples\n",
    "    macro_auc = roc_auc_score(\n",
    "        all_targets, all_predictions, multi_class='ovr', average='macro'\n",
    "    )\n",
    "    \n",
    "    # Restore the model's original training state\n",
    "    if was_training:\n",
    "        nnet.train()\n",
    "    \n",
    "    return mse, acc, macro_auc"
   ]
  },
  {
   "cell_type": "code",
   "execution_count": 12,
   "metadata": {},
   "outputs": [],
   "source": [
    "from sklearn.metrics import roc_auc_score\n",
    "\n",
    "def compute_mse_acc_auc_PT2(nnet, X, y, num_labels=10, minibatch_size=minibatch_size):\n",
    "    mse, correct_pred, num_examples = 0., 0, 0\n",
    "    minibatch_gen = minibatch_generator(X, y, minibatch_size)\n",
    "        \n",
    "    for i, (features, targets) in enumerate(minibatch_gen):\n",
    "\n",
    "        with torch.no_grad():\n",
    "            probas = nnet(torch.from_numpy(features).type(torch.FloatTensor))\n",
    "        maxes, predicted_labels = torch.max(probas, dim=1)    \n",
    "        onehot_targets = int_to_onehot(targets, num_labels=num_labels)\n",
    "        loss = torch.mean((torch.from_numpy(onehot_targets) - probas)**2)\n",
    "        correct_pred += (predicted_labels.numpy() == targets).sum()\n",
    "        \n",
    "        num_examples += targets.shape[0]\n",
    "        mse += loss\n",
    "    auc = roc_auc_score(y_true=onehot_targets, y_score=int_to_onehot(predicted_labels.numpy(), num_labels=num_labels), average='macro', multi_class='ovr')\n",
    "    mse = mse/(i+1)\n",
    "    acc = correct_pred/num_examples\n",
    "    return mse, acc, auc"
   ]
  },
  {
   "cell_type": "code",
   "execution_count": 13,
   "metadata": {},
   "outputs": [],
   "source": [
    "def train(model, X_train, y_train, X_valid, y_valid, num_epochs,\n",
    "          learning_rate=LR):\n",
    "    \n",
    "    epoch_loss = []\n",
    "    epoch_train_acc = []\n",
    "    epoch_valid_acc = []\n",
    "    epoch_train_auc = []\n",
    "    epoch_valid_auc = []\n",
    "    \n",
    "    for e in range(num_epochs):\n",
    "\n",
    "        # iterate over minibatches\n",
    "        minibatch_gen = minibatch_generator(\n",
    "            X_train, y_train, minibatch_size)\n",
    "\n",
    "        for X_train_mini, y_train_mini in minibatch_gen:\n",
    "            \n",
    "            #### Compute outputs ####\n",
    "            a_h, a_out = model.forward(X_train_mini)\n",
    "\n",
    "            #### Compute gradients ####\n",
    "            d_loss__d_w_out, d_loss__d_b_out, d_loss__d_w_h, d_loss__d_b_h = \\\n",
    "                model.backward(X_train_mini, a_h, a_out, y_train_mini)\n",
    "\n",
    "            #### Update weights ####\n",
    "            model.weight_h -= learning_rate * d_loss__d_w_h\n",
    "            model.bias_h -= learning_rate * d_loss__d_b_h\n",
    "            model.weight_out -= learning_rate * d_loss__d_w_out\n",
    "            model.bias_out -= learning_rate * d_loss__d_b_out\n",
    "        \n",
    "        #### Epoch Logging ####        \n",
    "        train_mse, train_acc, train_auc = compute_mse_acc_auc(model, X_train, y_train)\n",
    "        valid_mse, valid_acc, valid_auc = compute_mse_acc_auc(model, X_valid, y_valid)\n",
    "        train_acc, valid_acc, train_auc, valid_auc = train_acc*100, valid_acc*100, train_auc*100, valid_auc*100\n",
    "        epoch_train_acc.append(train_acc)\n",
    "        epoch_valid_acc.append(valid_acc)\n",
    "        epoch_loss.append(train_mse)\n",
    "        epoch_train_auc.append(train_auc)\n",
    "        epoch_valid_auc.append(valid_auc)\n",
    "        print(f'Epoch: {e+1:03d}/{num_epochs:03d} '\n",
    "              f'| Train MSE: {train_mse:.2f} '\n",
    "              f'| Train Acc: {train_acc:.2f}% '\n",
    "              f'| Train AUC: {train_auc:.2f}% '\n",
    "              f'| Valid Acc: {valid_acc:.2f}%')\n",
    "    \n",
    "    return epoch_loss, epoch_train_acc, epoch_valid_acc, epoch_train_auc, epoch_valid_auc"
   ]
  },
  {
   "cell_type": "code",
   "execution_count": 14,
   "metadata": {},
   "outputs": [],
   "source": [
    "def train2L(model, X_train, y_train, X_valid, y_valid, num_epochs,\n",
    "          learning_rate=LR):\n",
    "    \n",
    "    epoch_loss = []\n",
    "    epoch_train_acc = []\n",
    "    epoch_valid_acc = []\n",
    "    epoch_train_auc = []\n",
    "    epoch_valid_auc = []\n",
    "    \n",
    "    for e in range(num_epochs):\n",
    "\n",
    "        # iterate over minibatches\n",
    "        minibatch_gen = minibatch_generator(\n",
    "            X_train, y_train, minibatch_size)\n",
    "\n",
    "        for X_train_mini, y_train_mini in minibatch_gen:\n",
    "            \n",
    "            #### Compute outputs ####\n",
    "            a_h1, a_h2, a_out = model.forward(X_train_mini)\n",
    "\n",
    "            #### Compute gradients ####\n",
    "            d_loss__d_w_out, d_loss__d_b_out, d_loss__d_w_h2, d_loss__d_b_h2, d_loss__d_w_h1, d_loss__d_b_h1 = \\\n",
    "                model.backward(X_train_mini, a_h1, a_h2, a_out, y_train_mini)\n",
    "\n",
    "            #### Update weights ####\n",
    "            model.weight_h1 -= learning_rate * d_loss__d_w_h1\n",
    "            model.bias_h1 -= learning_rate * d_loss__d_b_h1\n",
    "            model.weight_h2 -= learning_rate * d_loss__d_w_h2\n",
    "            model.bias_h2 -= learning_rate * d_loss__d_b_h2\n",
    "            model.weight_out -= learning_rate * d_loss__d_w_out\n",
    "            model.bias_out -= learning_rate * d_loss__d_b_out\n",
    "        \n",
    "        #### Epoch Logging ####        \n",
    "        train_mse, train_acc, train_auc = compute_mse_acc_auc(model, X_train, y_train)\n",
    "        valid_mse, valid_acc, valid_auc = compute_mse_acc_auc(model, X_valid, y_valid)\n",
    "        train_acc, valid_acc, train_auc, valid_auc = train_acc*100, valid_acc*100, train_auc*100, valid_auc*100\n",
    "        epoch_train_acc.append(train_acc)\n",
    "        epoch_valid_acc.append(valid_acc)\n",
    "        epoch_loss.append(train_mse)\n",
    "        epoch_train_auc.append(train_auc)\n",
    "        epoch_valid_auc.append(valid_auc)\n",
    "        print(f'Epoch: {e+1:03d}/{num_epochs:03d} '\n",
    "              f'| Train MSE: {train_mse:.2f} '\n",
    "              f'| Train Acc: {train_acc:.2f}% '\n",
    "              f'| Train AUC: {train_auc:.2f}% '\n",
    "              f'| Valid Acc: {valid_acc:.2f}%')\n",
    "\n",
    "    return epoch_loss, epoch_train_acc, epoch_valid_acc, epoch_train_auc, epoch_valid_auc"
   ]
  },
  {
   "cell_type": "code",
   "execution_count": 35,
   "metadata": {},
   "outputs": [],
   "source": [
    "def trainPT(model, X_train, y_train, X_valid, y_valid, num_epochs,\n",
    "          learning_rate=LR):\n",
    "    \n",
    "    epoch_loss = []\n",
    "    epoch_train_acc = []\n",
    "    epoch_valid_acc = []\n",
    "    epoch_train_auc = []\n",
    "    epoch_valid_auc = []\n",
    "    \n",
    "    critireon = MSELoss()\n",
    "    optimizer = torch.optim.SGD(model.parameters(), lr=learning_rate, momentum=0.9)\n",
    "\n",
    "    for e in range(num_epochs):\n",
    "        \n",
    "        # iterate over minibatches\n",
    "        minibatch_gen = minibatch_generator_PT(\n",
    "            X_train, y_train, minibatch_size)\n",
    "\n",
    "        for X_train_mini, y_train_mini in minibatch_gen:\n",
    "            y_train_mini = torch.nn.functional.one_hot(y_train_mini.type(torch.LongTensor), num_classes=10).type(torch.FloatTensor)\n",
    "            y_pred = model(X_train_mini)\n",
    "            loss = critireon(y_pred, y_train_mini)\n",
    "            optimizer.zero_grad()\n",
    "            loss.backward()\n",
    "            optimizer.step()\n",
    "\n",
    "        #### Epoch Logging ####        \n",
    "        train_mse, train_acc, train_auc = compute_mse_acc_auc_PT(model, X_train, y_train)\n",
    "        valid_mse, valid_acc, valid_auc = compute_mse_acc_auc_PT(model, X_valid, y_valid)\n",
    "        train_acc, valid_acc, train_auc, valid_auc = train_acc*100, valid_acc*100, train_auc*100, valid_auc*100\n",
    "        epoch_train_acc.append(train_acc)\n",
    "        epoch_valid_acc.append(valid_acc)\n",
    "        epoch_loss.append(train_mse)\n",
    "        epoch_train_auc.append(train_auc)\n",
    "        epoch_valid_auc.append(valid_auc)\n",
    "        print(f'Epoch: {e+1:03d}/{num_epochs:03d} '\n",
    "              f'| Train MSE: {train_mse:.2f} '\n",
    "              f'| Train Acc: {train_acc:.2f}% '\n",
    "              f'| Train AUC: {train_auc:.2f}% '\n",
    "              f'| Valid Acc: {valid_acc:.2f}%')\n",
    "\n",
    "    return epoch_loss, epoch_train_acc, epoch_valid_acc, epoch_train_auc, epoch_valid_auc"
   ]
  },
  {
   "cell_type": "code",
   "execution_count": 37,
   "metadata": {},
   "outputs": [],
   "source": [
    "model = NeuralNetMLP(num_features=28*28,\n",
    "                     num_hidden=50,\n",
    "                     num_classes=10)"
   ]
  },
  {
   "cell_type": "code",
   "execution_count": 38,
   "metadata": {},
   "outputs": [],
   "source": [
    "model2L = NeuralNetMLP2L(num_features=28*28,\n",
    "                     num_hidden_h1=500,\n",
    "                     num_hidden_h2=500,\n",
    "                     num_classes=10)"
   ]
  },
  {
   "cell_type": "code",
   "execution_count": 39,
   "metadata": {},
   "outputs": [],
   "source": [
    "PTmodel = nn.Sequential(\n",
    "    nn.Linear(28 * 28, 500),  # First hidden layer\n",
    "    nn.Sigmoid(),  # Activation function for the first hidden layer\n",
    "    nn.Linear(500, 500),  # Second hidden layer\n",
    "    nn.Sigmoid(),  # Activation function for the second hidden layer\n",
    "    nn.Linear(500, 10),  # Output layer\n",
    "    nn.Sigmoid()  # Activation function for the output layer\n",
    ")"
   ]
  },
  {
   "cell_type": "code",
   "execution_count": 40,
   "metadata": {},
   "outputs": [
    {
     "name": "stdout",
     "output_type": "stream",
     "text": [
      "Epoch: 001/050 | Train MSE: 0.08 | Train Acc: 50.87% | Train AUC: 72.12% | Valid Acc: 51.18%\n",
      "Epoch: 002/050 | Train MSE: 0.06 | Train Acc: 73.68% | Train AUC: 84.89% | Valid Acc: 73.80%\n",
      "Epoch: 003/050 | Train MSE: 0.04 | Train Acc: 79.84% | Train AUC: 88.43% | Valid Acc: 79.73%\n",
      "Epoch: 004/050 | Train MSE: 0.04 | Train Acc: 83.67% | Train AUC: 90.67% | Valid Acc: 83.06%\n",
      "Epoch: 005/050 | Train MSE: 0.03 | Train Acc: 85.93% | Train AUC: 92.02% | Valid Acc: 85.65%\n",
      "Epoch: 006/050 | Train MSE: 0.03 | Train Acc: 86.88% | Train AUC: 92.54% | Valid Acc: 86.16%\n",
      "Epoch: 007/050 | Train MSE: 0.03 | Train Acc: 87.77% | Train AUC: 93.07% | Valid Acc: 87.53%\n",
      "Epoch: 008/050 | Train MSE: 0.02 | Train Acc: 88.27% | Train AUC: 93.35% | Valid Acc: 87.92%\n",
      "Epoch: 009/050 | Train MSE: 0.02 | Train Acc: 89.04% | Train AUC: 93.81% | Valid Acc: 88.88%\n",
      "Epoch: 010/050 | Train MSE: 0.02 | Train Acc: 89.34% | Train AUC: 93.97% | Valid Acc: 89.08%\n",
      "Epoch: 011/050 | Train MSE: 0.02 | Train Acc: 89.65% | Train AUC: 94.16% | Valid Acc: 89.39%\n",
      "Epoch: 012/050 | Train MSE: 0.02 | Train Acc: 90.00% | Train AUC: 94.35% | Valid Acc: 89.55%\n",
      "Epoch: 013/050 | Train MSE: 0.02 | Train Acc: 90.37% | Train AUC: 94.57% | Valid Acc: 90.02%\n",
      "Epoch: 014/050 | Train MSE: 0.02 | Train Acc: 90.55% | Train AUC: 94.68% | Valid Acc: 90.04%\n",
      "Epoch: 015/050 | Train MSE: 0.02 | Train Acc: 90.73% | Train AUC: 94.78% | Valid Acc: 90.39%\n",
      "Epoch: 016/050 | Train MSE: 0.02 | Train Acc: 90.87% | Train AUC: 94.87% | Valid Acc: 90.57%\n",
      "Epoch: 017/050 | Train MSE: 0.02 | Train Acc: 91.10% | Train AUC: 94.99% | Valid Acc: 90.67%\n",
      "Epoch: 018/050 | Train MSE: 0.02 | Train Acc: 91.21% | Train AUC: 95.06% | Valid Acc: 90.96%\n",
      "Epoch: 019/050 | Train MSE: 0.02 | Train Acc: 91.39% | Train AUC: 95.15% | Valid Acc: 91.24%\n",
      "Epoch: 020/050 | Train MSE: 0.02 | Train Acc: 91.55% | Train AUC: 95.25% | Valid Acc: 91.22%\n",
      "Epoch: 021/050 | Train MSE: 0.02 | Train Acc: 91.67% | Train AUC: 95.31% | Valid Acc: 91.45%\n",
      "Epoch: 022/050 | Train MSE: 0.01 | Train Acc: 91.76% | Train AUC: 95.36% | Valid Acc: 91.35%\n",
      "Epoch: 023/050 | Train MSE: 0.01 | Train Acc: 91.86% | Train AUC: 95.42% | Valid Acc: 91.41%\n",
      "Epoch: 024/050 | Train MSE: 0.01 | Train Acc: 91.97% | Train AUC: 95.48% | Valid Acc: 91.67%\n",
      "Epoch: 025/050 | Train MSE: 0.01 | Train Acc: 92.00% | Train AUC: 95.50% | Valid Acc: 91.76%\n",
      "Epoch: 026/050 | Train MSE: 0.01 | Train Acc: 92.21% | Train AUC: 95.62% | Valid Acc: 91.84%\n",
      "Epoch: 027/050 | Train MSE: 0.01 | Train Acc: 92.27% | Train AUC: 95.66% | Valid Acc: 91.76%\n",
      "Epoch: 028/050 | Train MSE: 0.01 | Train Acc: 92.34% | Train AUC: 95.70% | Valid Acc: 91.98%\n",
      "Epoch: 029/050 | Train MSE: 0.01 | Train Acc: 92.38% | Train AUC: 95.72% | Valid Acc: 91.96%\n",
      "Epoch: 030/050 | Train MSE: 0.01 | Train Acc: 92.51% | Train AUC: 95.78% | Valid Acc: 92.10%\n",
      "Epoch: 031/050 | Train MSE: 0.01 | Train Acc: 92.60% | Train AUC: 95.84% | Valid Acc: 92.20%\n",
      "Epoch: 032/050 | Train MSE: 0.01 | Train Acc: 92.69% | Train AUC: 95.89% | Valid Acc: 92.27%\n",
      "Epoch: 033/050 | Train MSE: 0.01 | Train Acc: 92.80% | Train AUC: 95.95% | Valid Acc: 92.33%\n",
      "Epoch: 034/050 | Train MSE: 0.01 | Train Acc: 92.84% | Train AUC: 95.98% | Valid Acc: 92.37%\n",
      "Epoch: 035/050 | Train MSE: 0.01 | Train Acc: 92.88% | Train AUC: 96.00% | Valid Acc: 92.65%\n",
      "Epoch: 036/050 | Train MSE: 0.01 | Train Acc: 92.97% | Train AUC: 96.06% | Valid Acc: 92.69%\n",
      "Epoch: 037/050 | Train MSE: 0.01 | Train Acc: 93.05% | Train AUC: 96.09% | Valid Acc: 92.69%\n",
      "Epoch: 038/050 | Train MSE: 0.01 | Train Acc: 93.13% | Train AUC: 96.14% | Valid Acc: 92.76%\n",
      "Epoch: 039/050 | Train MSE: 0.01 | Train Acc: 93.20% | Train AUC: 96.18% | Valid Acc: 92.80%\n",
      "Epoch: 040/050 | Train MSE: 0.01 | Train Acc: 93.27% | Train AUC: 96.21% | Valid Acc: 92.90%\n",
      "Epoch: 041/050 | Train MSE: 0.01 | Train Acc: 93.34% | Train AUC: 96.26% | Valid Acc: 92.88%\n",
      "Epoch: 042/050 | Train MSE: 0.01 | Train Acc: 93.34% | Train AUC: 96.25% | Valid Acc: 92.98%\n",
      "Epoch: 043/050 | Train MSE: 0.01 | Train Acc: 93.38% | Train AUC: 96.28% | Valid Acc: 92.94%\n",
      "Epoch: 044/050 | Train MSE: 0.01 | Train Acc: 93.48% | Train AUC: 96.33% | Valid Acc: 93.00%\n",
      "Epoch: 045/050 | Train MSE: 0.01 | Train Acc: 93.47% | Train AUC: 96.33% | Valid Acc: 93.24%\n",
      "Epoch: 046/050 | Train MSE: 0.01 | Train Acc: 93.50% | Train AUC: 96.35% | Valid Acc: 93.18%\n",
      "Epoch: 047/050 | Train MSE: 0.01 | Train Acc: 93.58% | Train AUC: 96.40% | Valid Acc: 93.18%\n",
      "Epoch: 048/050 | Train MSE: 0.01 | Train Acc: 93.68% | Train AUC: 96.45% | Valid Acc: 93.27%\n",
      "Epoch: 049/050 | Train MSE: 0.01 | Train Acc: 93.68% | Train AUC: 96.45% | Valid Acc: 93.31%\n",
      "Epoch: 050/050 | Train MSE: 0.01 | Train Acc: 93.74% | Train AUC: 96.48% | Valid Acc: 93.31%\n"
     ]
    }
   ],
   "source": [
    "np.random.seed(123) # for the training set shuffling\n",
    "\n",
    "epoch_loss1, epoch_train_acc1, epoch_valid_acc1, epoch_train_auc1, epoch_valid_auc1 = train(\n",
    "    model, X_train, y_train, X_valid, y_valid,\n",
    "    num_epochs=num_epochs, learning_rate=LR)"
   ]
  },
  {
   "cell_type": "code",
   "execution_count": 41,
   "metadata": {},
   "outputs": [
    {
     "name": "stdout",
     "output_type": "stream",
     "text": [
      "Epoch: 001/050 | Train MSE: 0.05 | Train Acc: 75.22% | Train AUC: 85.79% | Valid Acc: 76.06%\n",
      "Epoch: 002/050 | Train MSE: 0.04 | Train Acc: 83.86% | Train AUC: 90.84% | Valid Acc: 83.82%\n",
      "Epoch: 003/050 | Train MSE: 0.03 | Train Acc: 85.99% | Train AUC: 92.04% | Valid Acc: 85.76%\n",
      "Epoch: 004/050 | Train MSE: 0.03 | Train Acc: 87.66% | Train AUC: 93.02% | Valid Acc: 87.33%\n",
      "Epoch: 005/050 | Train MSE: 0.02 | Train Acc: 88.67% | Train AUC: 93.62% | Valid Acc: 88.84%\n",
      "Epoch: 006/050 | Train MSE: 0.02 | Train Acc: 89.22% | Train AUC: 93.92% | Valid Acc: 89.00%\n",
      "Epoch: 007/050 | Train MSE: 0.02 | Train Acc: 89.62% | Train AUC: 94.15% | Valid Acc: 89.59%\n",
      "Epoch: 008/050 | Train MSE: 0.02 | Train Acc: 89.92% | Train AUC: 94.31% | Valid Acc: 89.45%\n",
      "Epoch: 009/050 | Train MSE: 0.02 | Train Acc: 90.29% | Train AUC: 94.54% | Valid Acc: 90.20%\n",
      "Epoch: 010/050 | Train MSE: 0.02 | Train Acc: 90.71% | Train AUC: 94.77% | Valid Acc: 90.27%\n",
      "Epoch: 011/050 | Train MSE: 0.02 | Train Acc: 90.86% | Train AUC: 94.85% | Valid Acc: 90.80%\n",
      "Epoch: 012/050 | Train MSE: 0.02 | Train Acc: 91.06% | Train AUC: 94.96% | Valid Acc: 90.67%\n",
      "Epoch: 013/050 | Train MSE: 0.02 | Train Acc: 91.39% | Train AUC: 95.16% | Valid Acc: 91.22%\n",
      "Epoch: 014/050 | Train MSE: 0.02 | Train Acc: 91.54% | Train AUC: 95.25% | Valid Acc: 91.27%\n",
      "Epoch: 015/050 | Train MSE: 0.02 | Train Acc: 91.78% | Train AUC: 95.39% | Valid Acc: 91.41%\n",
      "Epoch: 016/050 | Train MSE: 0.02 | Train Acc: 91.87% | Train AUC: 95.44% | Valid Acc: 91.51%\n",
      "Epoch: 017/050 | Train MSE: 0.01 | Train Acc: 92.00% | Train AUC: 95.51% | Valid Acc: 91.84%\n",
      "Epoch: 018/050 | Train MSE: 0.01 | Train Acc: 92.20% | Train AUC: 95.63% | Valid Acc: 91.84%\n",
      "Epoch: 019/050 | Train MSE: 0.01 | Train Acc: 92.39% | Train AUC: 95.73% | Valid Acc: 92.22%\n",
      "Epoch: 020/050 | Train MSE: 0.01 | Train Acc: 92.56% | Train AUC: 95.83% | Valid Acc: 92.33%\n",
      "Epoch: 021/050 | Train MSE: 0.01 | Train Acc: 92.65% | Train AUC: 95.87% | Valid Acc: 92.57%\n",
      "Epoch: 022/050 | Train MSE: 0.01 | Train Acc: 92.78% | Train AUC: 95.94% | Valid Acc: 92.61%\n",
      "Epoch: 023/050 | Train MSE: 0.01 | Train Acc: 92.86% | Train AUC: 95.99% | Valid Acc: 92.63%\n",
      "Epoch: 024/050 | Train MSE: 0.01 | Train Acc: 93.00% | Train AUC: 96.06% | Valid Acc: 92.82%\n",
      "Epoch: 025/050 | Train MSE: 0.01 | Train Acc: 93.13% | Train AUC: 96.13% | Valid Acc: 92.92%\n",
      "Epoch: 026/050 | Train MSE: 0.01 | Train Acc: 93.29% | Train AUC: 96.24% | Valid Acc: 93.04%\n",
      "Epoch: 027/050 | Train MSE: 0.01 | Train Acc: 93.39% | Train AUC: 96.30% | Valid Acc: 93.12%\n",
      "Epoch: 028/050 | Train MSE: 0.01 | Train Acc: 93.46% | Train AUC: 96.33% | Valid Acc: 93.06%\n",
      "Epoch: 029/050 | Train MSE: 0.01 | Train Acc: 93.51% | Train AUC: 96.37% | Valid Acc: 93.06%\n",
      "Epoch: 030/050 | Train MSE: 0.01 | Train Acc: 93.69% | Train AUC: 96.46% | Valid Acc: 93.39%\n",
      "Epoch: 031/050 | Train MSE: 0.01 | Train Acc: 93.83% | Train AUC: 96.53% | Valid Acc: 93.35%\n",
      "Epoch: 032/050 | Train MSE: 0.01 | Train Acc: 93.86% | Train AUC: 96.56% | Valid Acc: 93.43%\n",
      "Epoch: 033/050 | Train MSE: 0.01 | Train Acc: 93.95% | Train AUC: 96.61% | Valid Acc: 93.59%\n",
      "Epoch: 034/050 | Train MSE: 0.01 | Train Acc: 94.05% | Train AUC: 96.66% | Valid Acc: 93.57%\n",
      "Epoch: 035/050 | Train MSE: 0.01 | Train Acc: 94.04% | Train AUC: 96.66% | Valid Acc: 93.61%\n",
      "Epoch: 036/050 | Train MSE: 0.01 | Train Acc: 94.18% | Train AUC: 96.74% | Valid Acc: 93.76%\n",
      "Epoch: 037/050 | Train MSE: 0.01 | Train Acc: 94.34% | Train AUC: 96.82% | Valid Acc: 93.78%\n",
      "Epoch: 038/050 | Train MSE: 0.01 | Train Acc: 94.44% | Train AUC: 96.88% | Valid Acc: 93.82%\n",
      "Epoch: 039/050 | Train MSE: 0.01 | Train Acc: 94.48% | Train AUC: 96.90% | Valid Acc: 94.04%\n",
      "Epoch: 040/050 | Train MSE: 0.01 | Train Acc: 94.56% | Train AUC: 96.95% | Valid Acc: 94.24%\n",
      "Epoch: 041/050 | Train MSE: 0.01 | Train Acc: 94.64% | Train AUC: 97.00% | Valid Acc: 94.10%\n",
      "Epoch: 042/050 | Train MSE: 0.01 | Train Acc: 94.69% | Train AUC: 97.02% | Valid Acc: 94.04%\n",
      "Epoch: 043/050 | Train MSE: 0.01 | Train Acc: 94.78% | Train AUC: 97.08% | Valid Acc: 94.16%\n",
      "Epoch: 044/050 | Train MSE: 0.01 | Train Acc: 94.86% | Train AUC: 97.12% | Valid Acc: 94.24%\n",
      "Epoch: 045/050 | Train MSE: 0.01 | Train Acc: 94.88% | Train AUC: 97.13% | Valid Acc: 94.37%\n",
      "Epoch: 046/050 | Train MSE: 0.01 | Train Acc: 94.96% | Train AUC: 97.18% | Valid Acc: 94.35%\n",
      "Epoch: 047/050 | Train MSE: 0.01 | Train Acc: 95.00% | Train AUC: 97.20% | Valid Acc: 94.35%\n",
      "Epoch: 048/050 | Train MSE: 0.01 | Train Acc: 95.09% | Train AUC: 97.26% | Valid Acc: 94.49%\n",
      "Epoch: 049/050 | Train MSE: 0.01 | Train Acc: 95.14% | Train AUC: 97.28% | Valid Acc: 94.45%\n",
      "Epoch: 050/050 | Train MSE: 0.01 | Train Acc: 95.21% | Train AUC: 97.32% | Valid Acc: 94.51%\n"
     ]
    }
   ],
   "source": [
    "np.random.seed(123) # for the training set shuffling\n",
    "\n",
    "epoch_loss2, epoch_train_acc2, epoch_valid_acc2, epoch_train_auc2, epoch_valid_auc2 = train2L(\n",
    "    model2L, X_train, y_train, X_valid, y_valid,\n",
    "    num_epochs=num_epochs, learning_rate=LR)"
   ]
  },
  {
   "cell_type": "code",
   "execution_count": 42,
   "metadata": {},
   "outputs": [
    {
     "name": "stdout",
     "output_type": "stream",
     "text": [
      "Epoch: 001/050 | Train MSE: 0.00 | Train Acc: 11.38% | Train AUC: 82.38% | Valid Acc: 11.35%\n",
      "Epoch: 002/050 | Train MSE: 0.00 | Train Acc: 15.77% | Train AUC: 92.37% | Valid Acc: 15.55%\n",
      "Epoch: 003/050 | Train MSE: 0.00 | Train Acc: 25.99% | Train AUC: 94.02% | Valid Acc: 26.61%\n",
      "Epoch: 004/050 | Train MSE: 0.00 | Train Acc: 43.63% | Train AUC: 93.94% | Valid Acc: 43.37%\n",
      "Epoch: 005/050 | Train MSE: 0.00 | Train Acc: 23.58% | Train AUC: 92.74% | Valid Acc: 23.57%\n",
      "Epoch: 006/050 | Train MSE: 0.00 | Train Acc: 47.68% | Train AUC: 90.62% | Valid Acc: 47.82%\n",
      "Epoch: 007/050 | Train MSE: 0.00 | Train Acc: 54.52% | Train AUC: 90.65% | Valid Acc: 55.20%\n",
      "Epoch: 008/050 | Train MSE: 0.00 | Train Acc: 63.84% | Train AUC: 91.74% | Valid Acc: 64.35%\n",
      "Epoch: 009/050 | Train MSE: 0.00 | Train Acc: 70.72% | Train AUC: 92.84% | Valid Acc: 71.20%\n",
      "Epoch: 010/050 | Train MSE: 0.00 | Train Acc: 77.22% | Train AUC: 94.04% | Valid Acc: 77.43%\n",
      "Epoch: 011/050 | Train MSE: 0.00 | Train Acc: 81.84% | Train AUC: 95.00% | Valid Acc: 82.10%\n",
      "Epoch: 012/050 | Train MSE: 0.00 | Train Acc: 82.13% | Train AUC: 95.66% | Valid Acc: 82.14%\n",
      "Epoch: 013/050 | Train MSE: 0.00 | Train Acc: 84.17% | Train AUC: 96.14% | Valid Acc: 84.27%\n",
      "Epoch: 014/050 | Train MSE: 0.00 | Train Acc: 84.99% | Train AUC: 96.51% | Valid Acc: 85.16%\n",
      "Epoch: 015/050 | Train MSE: 0.00 | Train Acc: 86.17% | Train AUC: 96.83% | Valid Acc: 86.43%\n",
      "Epoch: 016/050 | Train MSE: 0.00 | Train Acc: 87.09% | Train AUC: 97.11% | Valid Acc: 87.43%\n",
      "Epoch: 017/050 | Train MSE: 0.00 | Train Acc: 87.51% | Train AUC: 97.34% | Valid Acc: 87.88%\n",
      "Epoch: 018/050 | Train MSE: 0.00 | Train Acc: 88.12% | Train AUC: 97.53% | Valid Acc: 88.20%\n",
      "Epoch: 019/050 | Train MSE: 0.00 | Train Acc: 88.55% | Train AUC: 97.69% | Valid Acc: 88.47%\n",
      "Epoch: 020/050 | Train MSE: 0.00 | Train Acc: 88.79% | Train AUC: 97.83% | Valid Acc: 88.90%\n",
      "Epoch: 021/050 | Train MSE: 0.00 | Train Acc: 89.12% | Train AUC: 97.93% | Valid Acc: 89.06%\n",
      "Epoch: 022/050 | Train MSE: 0.00 | Train Acc: 89.37% | Train AUC: 98.02% | Valid Acc: 89.33%\n",
      "Epoch: 023/050 | Train MSE: 0.00 | Train Acc: 89.63% | Train AUC: 98.09% | Valid Acc: 89.37%\n",
      "Epoch: 024/050 | Train MSE: 0.00 | Train Acc: 89.71% | Train AUC: 98.15% | Valid Acc: 89.59%\n",
      "Epoch: 025/050 | Train MSE: 0.00 | Train Acc: 89.91% | Train AUC: 98.21% | Valid Acc: 89.55%\n",
      "Epoch: 026/050 | Train MSE: 0.00 | Train Acc: 90.12% | Train AUC: 98.25% | Valid Acc: 89.78%\n",
      "Epoch: 027/050 | Train MSE: 0.00 | Train Acc: 90.30% | Train AUC: 98.30% | Valid Acc: 90.12%\n",
      "Epoch: 028/050 | Train MSE: 0.00 | Train Acc: 90.47% | Train AUC: 98.34% | Valid Acc: 90.29%\n",
      "Epoch: 029/050 | Train MSE: 0.00 | Train Acc: 90.52% | Train AUC: 98.38% | Valid Acc: 90.22%\n",
      "Epoch: 030/050 | Train MSE: 0.00 | Train Acc: 90.72% | Train AUC: 98.41% | Valid Acc: 90.61%\n",
      "Epoch: 031/050 | Train MSE: 0.00 | Train Acc: 90.81% | Train AUC: 98.44% | Valid Acc: 90.63%\n",
      "Epoch: 032/050 | Train MSE: 0.00 | Train Acc: 90.87% | Train AUC: 98.47% | Valid Acc: 90.63%\n",
      "Epoch: 033/050 | Train MSE: 0.00 | Train Acc: 91.05% | Train AUC: 98.50% | Valid Acc: 90.84%\n",
      "Epoch: 034/050 | Train MSE: 0.00 | Train Acc: 91.13% | Train AUC: 98.53% | Valid Acc: 90.94%\n",
      "Epoch: 035/050 | Train MSE: 0.00 | Train Acc: 91.27% | Train AUC: 98.56% | Valid Acc: 90.96%\n",
      "Epoch: 036/050 | Train MSE: 0.00 | Train Acc: 91.38% | Train AUC: 98.58% | Valid Acc: 91.12%\n",
      "Epoch: 037/050 | Train MSE: 0.00 | Train Acc: 91.50% | Train AUC: 98.60% | Valid Acc: 91.22%\n",
      "Epoch: 038/050 | Train MSE: 0.00 | Train Acc: 91.57% | Train AUC: 98.63% | Valid Acc: 91.37%\n",
      "Epoch: 039/050 | Train MSE: 0.00 | Train Acc: 91.66% | Train AUC: 98.65% | Valid Acc: 91.43%\n",
      "Epoch: 040/050 | Train MSE: 0.00 | Train Acc: 91.73% | Train AUC: 98.67% | Valid Acc: 91.43%\n",
      "Epoch: 041/050 | Train MSE: 0.00 | Train Acc: 91.83% | Train AUC: 98.69% | Valid Acc: 91.69%\n",
      "Epoch: 042/050 | Train MSE: 0.00 | Train Acc: 91.95% | Train AUC: 98.71% | Valid Acc: 91.61%\n",
      "Epoch: 043/050 | Train MSE: 0.00 | Train Acc: 92.03% | Train AUC: 98.73% | Valid Acc: 91.86%\n",
      "Epoch: 044/050 | Train MSE: 0.00 | Train Acc: 92.08% | Train AUC: 98.75% | Valid Acc: 91.86%\n",
      "Epoch: 045/050 | Train MSE: 0.00 | Train Acc: 92.20% | Train AUC: 98.77% | Valid Acc: 91.96%\n",
      "Epoch: 046/050 | Train MSE: 0.00 | Train Acc: 92.25% | Train AUC: 98.78% | Valid Acc: 91.80%\n",
      "Epoch: 047/050 | Train MSE: 0.00 | Train Acc: 92.36% | Train AUC: 98.80% | Valid Acc: 92.06%\n",
      "Epoch: 048/050 | Train MSE: 0.00 | Train Acc: 92.47% | Train AUC: 98.82% | Valid Acc: 92.06%\n",
      "Epoch: 049/050 | Train MSE: 0.00 | Train Acc: 92.50% | Train AUC: 98.83% | Valid Acc: 92.24%\n",
      "Epoch: 050/050 | Train MSE: 0.00 | Train Acc: 92.59% | Train AUC: 98.85% | Valid Acc: 92.16%\n"
     ]
    }
   ],
   "source": [
    "np.random.seed(123)\n",
    "epoch_lossPT, epoch_train_accPT, epoch_valid_accPT, epoch_train_aucPT, epoch_valid_aucPT = trainPT(\n",
    "    PTmodel, torch.from_numpy(X_train).type(torch.FloatTensor), torch.from_numpy(y_train).type(torch.FloatTensor), torch.from_numpy(X_valid).type(torch.FloatTensor), torch.from_numpy(y_valid).type(torch.FloatTensor),\n",
    "    num_epochs=num_epochs, learning_rate=LR)"
   ]
  },
  {
   "cell_type": "markdown",
   "metadata": {},
   "source": [
    "## Evaluating the neural network performance"
   ]
  },
  {
   "cell_type": "code",
   "execution_count": 48,
   "metadata": {},
   "outputs": [],
   "source": [
    "import matplotlib.pyplot as plt"
   ]
  },
  {
   "cell_type": "code",
   "execution_count": 49,
   "metadata": {},
   "outputs": [
    {
     "data": {
      "image/png": "[encoded data removed]",
      "text/plain": [
       "<Figure size 640x480 with 1 Axes>"
      ]
     },
     "metadata": {},
     "output_type": "display_data"
    }
   ],
   "source": [
    "plt.plot(range(len(epoch_train_auc1)), epoch_train_auc1,\n",
    "         label='Training AUC')\n",
    "plt.plot(range(len(epoch_valid_auc1)), epoch_valid_auc1,\n",
    "         label='Valadation AUC')\n",
    "plt.ylabel('Macro AUC')\n",
    "plt.xlabel('Epochs')\n",
    "plt.legend(loc='lower right')\n",
    "plt.title(\"1L train and validation Macro AUC\")\n",
    "plt.ylim(0, 100)\n",
    "plt.savefig('plots/1L_AUC.png', dpi=300)\n",
    "plt.show()"
   ]
  },
  {
   "cell_type": "code",
   "execution_count": 50,
   "metadata": {},
   "outputs": [
    {
     "data": {
      "image/png": "[encoded data removed]",
      "text/plain": [
       "<Figure size 640x480 with 1 Axes>"
      ]
     },
     "metadata": {},
     "output_type": "display_data"
    }
   ],
   "source": [
    "plt.plot(range(len(epoch_train_auc2)), epoch_train_auc2,\n",
    "         label='Training AUC')\n",
    "plt.plot(range(len(epoch_valid_auc2)), epoch_valid_auc2,\n",
    "         label='Valadation AUC')\n",
    "plt.ylabel('Macro AUC')\n",
    "plt.xlabel('Epochs')\n",
    "plt.legend(loc='lower right')\n",
    "plt.title(\"2L train and validation Macro AUC\")\n",
    "plt.ylim(0, 100)\n",
    "plt.savefig('plots/2L_AUC.png', dpi=300)\n",
    "plt.show()"
   ]
  },
  {
   "cell_type": "code",
   "execution_count": 51,
   "metadata": {},
   "outputs": [
    {
     "data": {
      "image/png": "[encoded data removed]",
      "text/plain": [
       "<Figure size 640x480 with 1 Axes>"
      ]
     },
     "metadata": {},
     "output_type": "display_data"
    }
   ],
   "source": [
    "plt.plot(range(len(epoch_train_aucPT)), epoch_train_aucPT,\n",
    "         label='Training AUC')\n",
    "plt.plot(range(len(epoch_valid_aucPT)), epoch_valid_aucPT,\n",
    "         label='Valadation AUC')\n",
    "plt.ylabel('Macro AUC')\n",
    "plt.xlabel('Epochs')\n",
    "plt.legend(loc='lower right')\n",
    "plt.title(\"PT train and validation Macro AUC\")\n",
    "plt.ylim(0, 100)\n",
    "plt.savefig('plots/PT_AUC.png', dpi=300)\n",
    "plt.show()"
   ]
  },
  {
   "cell_type": "code",
   "execution_count": 52,
   "metadata": {},
   "outputs": [
    {
     "data": {
      "image/png": "[encoded data removed]",
      "text/plain": [
       "<Figure size 640x480 with 1 Axes>"
      ]
     },
     "metadata": {},
     "output_type": "display_data"
    }
   ],
   "source": [
    "plt.plot(range(len(epoch_train_acc1)), epoch_train_acc1,\n",
    "         label='Training')\n",
    "plt.plot(range(len(epoch_valid_acc1)), epoch_valid_acc1,\n",
    "         label='Validation')\n",
    "plt.ylabel('Accuracy')\n",
    "plt.xlabel('Epochs')\n",
    "plt.legend(loc='lower right')\n",
    "plt.title(\"1L model train and validation accuracy\")\n",
    "plt.ylim(0, 100)\n",
    "plt.savefig('plots/1L_ACC.png', dpi=300)\n",
    "plt.show()"
   ]
  },
  {
   "cell_type": "code",
   "execution_count": 53,
   "metadata": {},
   "outputs": [
    {
     "data": {
      "image/png": "[encoded data removed]",
      "text/plain": [
       "<Figure size 640x480 with 1 Axes>"
      ]
     },
     "metadata": {},
     "output_type": "display_data"
    }
   ],
   "source": [
    "plt.plot(range(len(epoch_train_acc2)), epoch_train_acc2,\n",
    "         label='Training')\n",
    "plt.plot(range(len(epoch_valid_acc2)), epoch_valid_acc2,\n",
    "         label='Validation')\n",
    "plt.ylabel('Accuracy')\n",
    "plt.xlabel('Epochs')\n",
    "plt.legend(loc='lower right')\n",
    "plt.title(\"2L model train and validation accuracy\")\n",
    "plt.ylim(0, 100)\n",
    "plt.savefig('plots/2L_ACC.png', dpi=300)\n",
    "plt.show()"
   ]
  },
  {
   "cell_type": "code",
   "execution_count": 54,
   "metadata": {},
   "outputs": [
    {
     "data": {
      "image/png": "[encoded data removed]",
      "text/plain": [
       "<Figure size 640x480 with 1 Axes>"
      ]
     },
     "metadata": {},
     "output_type": "display_data"
    }
   ],
   "source": [
    "plt.plot(range(len(epoch_train_accPT)), epoch_train_accPT,\n",
    "         label='Training')\n",
    "plt.plot(range(len(epoch_valid_accPT)), epoch_valid_accPT,\n",
    "         label='Validation')\n",
    "plt.ylabel('Accuracy')\n",
    "plt.xlabel('Epochs')\n",
    "plt.legend(loc='lower right')\n",
    "plt.title(\"PT model train and validation accuracy\")\n",
    "plt.ylim(0, 100)\n",
    "plt.savefig('plots/PT_ACC.png', dpi=300)\n",
    "plt.show()"
   ]
  },
  {
   "cell_type": "code",
   "execution_count": 55,
   "metadata": {},
   "outputs": [
    {
     "name": "stdout",
     "output_type": "stream",
     "text": [
      "Test accuracy: 93.13%\n",
      "Test AUC: 96.14%\n"
     ]
    }
   ],
   "source": [
    "test_mse, test_acc, test_auc = compute_mse_acc_auc(model, X_test, y_test)\n",
    "print(f'Test accuracy: {test_acc*100:.2f}%')\n",
    "print(f'Test AUC: {test_auc*100:.2f}%')"
   ]
  },
  {
   "cell_type": "code",
   "execution_count": 56,
   "metadata": {},
   "outputs": [
    {
     "name": "stdout",
     "output_type": "stream",
     "text": [
      "Test accuracy: 94.60%\n",
      "Test AUC: 96.97%\n"
     ]
    }
   ],
   "source": [
    "test_mse, test_acc, test_auc = compute_mse_acc_auc(model2L, X_test, y_test)\n",
    "print(f'Test accuracy: {test_acc*100:.2f}%')\n",
    "print(f'Test AUC: {test_auc*100:.2f}%')"
   ]
  },
  {
   "cell_type": "code",
   "execution_count": 61,
   "metadata": {},
   "outputs": [
    {
     "name": "stdout",
     "output_type": "stream",
     "text": [
      "Test accuracy: 92.13%\n",
      "Test AUC: 98.75%\n"
     ]
    }
   ],
   "source": [
    "test_mse, test_acc, test_auc = compute_mse_acc_auc_PT(PTmodel, torch.from_numpy(X_test).type(torch.FloatTensor), torch.from_numpy(y_test).type(torch.FloatTensor))\n",
    "print(f'Test accuracy: {test_acc*100:.2f}%')\n",
    "print(f'Test AUC: {test_auc*100:.2f}%')"
   ]
  }
 ],
 "metadata": {
  "anaconda-cloud": {},
  "kernelspec": {
   "display_name": "Python 3",
   "language": "python",
   "name": "python3"
  },
  "language_info": {
   "codemirror_mode": {
    "name": "ipython",
    "version": 3
   },
   "file_extension": ".py",
   "mimetype": "text/x-python",
   "name": "python",
   "nbconvert_exporter": "python",
   "pygments_lexer": "ipython3",
   "version": "3.9.0"
  }
 },
 "nbformat": 4,
 "nbformat_minor": 4
}
