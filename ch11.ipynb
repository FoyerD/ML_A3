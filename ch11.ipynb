{
 "cells": [
  {
   "cell_type": "markdown",
   "metadata": {
    "tags": []
   },
   "source": [
    "# Machine Learning with PyTorch and Scikit-Learn  \n",
    "# -- Code Examples"
   ]
  },
  {
   "cell_type": "markdown",
   "metadata": {},
   "source": [
    "## Package version checks"
   ]
  },
  {
   "cell_type": "markdown",
   "metadata": {},
   "source": [
    "Add folder to path in order to load from the check_packages.py script:"
   ]
  },
  {
   "cell_type": "code",
   "execution_count": 1,
   "metadata": {},
   "outputs": [],
   "source": [
    "import sys\n",
    "sys.path.insert(0, '..')"
   ]
  },
  {
   "cell_type": "markdown",
   "metadata": {},
   "source": [
    "Check recommended package versions:"
   ]
  },
  {
   "cell_type": "code",
   "execution_count": null,
   "metadata": {},
   "outputs": [],
   "source": [
    "from python_environment_check import check_packages\n",
    "\n",
    "\n",
    "d = {\n",
    "    'numpy': '1.21.2',\n",
    "    'matplotlib': '3.4.3',\n",
    "    'sklearn': '1.0',\n",
    "}\n",
    "check_packages(d)"
   ]
  },
  {
   "cell_type": "markdown",
   "metadata": {},
   "source": [
    "# Chapter 11 - Implementing a Multi-layer Artificial Neural Network from Scratch\n"
   ]
  },
  {
   "cell_type": "markdown",
   "metadata": {},
   "source": [
    "### Overview"
   ]
  },
  {
   "cell_type": "markdown",
   "metadata": {},
   "source": [
    "- [Modeling complex functions with artificial neural networks](#Modeling-complex-functions-with-artificial-neural-networks)\n",
    "  - [Single-layer neural network recap](#Single-layer-neural-network-recap)\n",
    "  - [Introducing the multi-layer neural network architecture](#Introducing-the-multi-layer-neural-network-architecture)\n",
    "  - [Activating a neural network via forward propagation](#Activating-a-neural-network-via-forward-propagation)\n",
    "- [Classifying handwritten digits](#Classifying-handwritten-digits)\n",
    "  - [Obtaining the MNIST dataset](#Obtaining-the-MNIST-dataset)\n",
    "  - [Implementing a multi-layer perceptron](#Implementing-a-multi-layer-perceptron)\n",
    "  - [Coding the neural network training loop](#Coding-the-neural-network-training-loop)\n",
    "  - [Evaluating the neural network performance](#Evaluating-the-neural-network-performance)\n",
    "- [Training an artificial neural network](#Training-an-artificial-neural-network)\n",
    "  - [Computing the loss function](#Computing-the-loss-function)\n",
    "  - [Developing your intuition for backpropagation](#Developing-your-intuition-for-backpropagation)\n",
    "  - [Training neural networks via backpropagation](#Training-neural-networks-via-backpropagation)\n",
    "- [Convergence in neural networks](#Convergence-in-neural-networks)\n",
    "- [Summary](#Summary)"
   ]
  },
  {
   "cell_type": "markdown",
   "metadata": {},
   "source": [
    "<br>\n",
    "<br>"
   ]
  },
  {
   "cell_type": "code",
   "execution_count": 4,
   "metadata": {},
   "outputs": [],
   "source": [
    "from IPython.display import Image\n",
    "%matplotlib inline"
   ]
  },
  {
   "cell_type": "markdown",
   "metadata": {},
   "source": [
    "# Modeling complex functions with artificial neural networks"
   ]
  },
  {
   "cell_type": "markdown",
   "metadata": {},
   "source": [
    "..."
   ]
  },
  {
   "cell_type": "markdown",
   "metadata": {},
   "source": [
    "## Single-layer neural network recap"
   ]
  },
  {
   "cell_type": "code",
   "execution_count": null,
   "metadata": {},
   "outputs": [],
   "source": [
    "Image(filename='figures/11_01.png', width=600) "
   ]
  },
  {
   "cell_type": "markdown",
   "metadata": {},
   "source": [
    "<br>\n",
    "<br>"
   ]
  },
  {
   "cell_type": "markdown",
   "metadata": {},
   "source": [
    "## Introducing the multi-layer neural network architecture"
   ]
  },
  {
   "cell_type": "code",
   "execution_count": null,
   "metadata": {},
   "outputs": [],
   "source": [
    "Image(filename='figures/11_02.png', width=600) "
   ]
  },
  {
   "cell_type": "code",
   "execution_count": null,
   "metadata": {},
   "outputs": [],
   "source": [
    "Image(filename='figures/11_03.png', width=500) "
   ]
  },
  {
   "cell_type": "markdown",
   "metadata": {},
   "source": [
    "<br>\n",
    "<br>"
   ]
  },
  {
   "cell_type": "markdown",
   "metadata": {},
   "source": [
    "## Activating a neural network via forward propagation"
   ]
  },
  {
   "cell_type": "markdown",
   "metadata": {},
   "source": [
    "<br>\n",
    "<br>"
   ]
  },
  {
   "cell_type": "markdown",
   "metadata": {},
   "source": [
    "# Classifying handwritten digits"
   ]
  },
  {
   "cell_type": "markdown",
   "metadata": {},
   "source": [
    "..."
   ]
  },
  {
   "cell_type": "markdown",
   "metadata": {},
   "source": [
    "## Obtaining and preparing the MNIST dataset"
   ]
  },
  {
   "cell_type": "markdown",
   "metadata": {},
   "source": [
    "The MNIST dataset is publicly available at http://yann.lecun.com/exdb/mnist/ and consists of the following four parts:\n",
    "\n",
    "- Training set images: train-images-idx3-ubyte.gz (9.9 MB, 47 MB unzipped, 60,000 examples)\n",
    "- Training set labels: train-labels-idx1-ubyte.gz (29 KB, 60 KB unzipped, 60,000 labels)\n",
    "- Test set images: t10k-images-idx3-ubyte.gz (1.6 MB, 7.8 MB, 10,000 examples)\n",
    "- Test set labels: t10k-labels-idx1-ubyte.gz (5 KB, 10 KB unzipped, 10,000 labels)\n",
    "\n"
   ]
  },
  {
   "cell_type": "code",
   "execution_count": 128,
   "metadata": {},
   "outputs": [
    {
     "name": "stdout",
     "output_type": "stream",
     "text": [
      "(70000, 784)\n",
      "(70000,)\n"
     ]
    }
   ],
   "source": [
    "from sklearn.datasets import fetch_openml\n",
    "\n",
    "\n",
    "X, y = fetch_openml('mnist_784', version=1, return_X_y=True)\n",
    "X = X.values\n",
    "y = y.astype(int).values\n",
    "\n",
    "print(X.shape)\n",
    "print(y.shape)"
   ]
  },
  {
   "cell_type": "markdown",
   "metadata": {},
   "source": [
    "Normalize to [-1, 1] range:"
   ]
  },
  {
   "cell_type": "code",
   "execution_count": 129,
   "metadata": {},
   "outputs": [],
   "source": [
    "X = ((X / 255.) - .5) * 2"
   ]
  },
  {
   "cell_type": "markdown",
   "metadata": {},
   "source": [
    "Visualize the first digit of each class:"
   ]
  },
  {
   "cell_type": "code",
   "execution_count": 105,
   "metadata": {},
   "outputs": [
    {
     "data": {
      "image/png": "[encoded data removed]",
      "text/plain": [
       "<Figure size 640x480 with 10 Axes>"
      ]
     },
     "metadata": {},
     "output_type": "display_data"
    }
   ],
   "source": [
    "import matplotlib.pyplot as plt\n",
    "\n",
    "fig, ax = plt.subplots(nrows=2, ncols=5, sharex=True, sharey=True)\n",
    "ax = ax.flatten()\n",
    "for i in range(10):\n",
    "    img = X[y == i][0].reshape(28, 28)\n",
    "    ax[i].imshow(img, cmap='Greys')\n",
    "\n",
    "ax[0].set_xticks([])\n",
    "ax[0].set_yticks([])\n",
    "plt.tight_layout()\n",
    "#plt.savefig('figures/11_4.png', dpi=300)\n",
    "plt.show()"
   ]
  },
  {
   "cell_type": "markdown",
   "metadata": {},
   "source": [
    "Visualize 25 different versions of \"7\":"
   ]
  },
  {
   "cell_type": "code",
   "execution_count": 106,
   "metadata": {
    "scrolled": true
   },
   "outputs": [
    {
     "data": {
      "image/png": "[encoded data removed]",
      "text/plain": [
       "<Figure size 640x480 with 25 Axes>"
      ]
     },
     "metadata": {},
     "output_type": "display_data"
    }
   ],
   "source": [
    "fig, ax = plt.subplots(nrows=5, ncols=5, sharex=True, sharey=True)\n",
    "ax = ax.flatten()\n",
    "for i in range(25):\n",
    "    img = X[y == 7][i].reshape(28, 28)\n",
    "    ax[i].imshow(img, cmap='Greys')\n",
    "\n",
    "ax[0].set_xticks([])\n",
    "ax[0].set_yticks([])\n",
    "plt.tight_layout()\n",
    "# plt.savefig('figures/11_5.png', dpi=300)\n",
    "plt.show()"
   ]
  },
  {
   "cell_type": "markdown",
   "metadata": {},
   "source": [
    "Split into training, validation, and test set:"
   ]
  },
  {
   "cell_type": "code",
   "execution_count": 130,
   "metadata": {},
   "outputs": [],
   "source": [
    "from sklearn.model_selection import train_test_split\n",
    "from math import ceil\n",
    "\n",
    "X_temp, X_test, y_temp, y_test = train_test_split(\n",
    "    X, y, test_size=ceil(len(X)*0.3), random_state=123, stratify=y)\n",
    "\n",
    "X_train, X_valid, y_train, y_valid = train_test_split(\n",
    "    X_temp, y_temp, test_size=ceil(len(X_temp)*0.1), random_state=123, stratify=y_temp)\n",
    "\n",
    "\n"
   ]
  },
  {
   "cell_type": "code",
   "execution_count": null,
   "metadata": {},
   "outputs": [],
   "source": [
    "from sklearn.model_selection import train_test_split\n",
    "\n",
    "\n",
    "X_temp, X_test, y_temp, y_test = train_test_split(\n",
    "    X, y, test_size=10000, random_state=123, stratify=y)\n",
    "\n",
    "X_train, X_valid, y_train, y_valid = train_test_split(\n",
    "    X_temp, y_temp, test_size=5000, random_state=123, stratify=y_temp)\n"
   ]
  },
  {
   "cell_type": "markdown",
   "metadata": {},
   "source": [
    "<br>\n",
    "<br>"
   ]
  },
  {
   "cell_type": "markdown",
   "metadata": {},
   "source": [
    "## Implementing a multi-layer perceptron"
   ]
  },
  {
   "cell_type": "code",
   "execution_count": 108,
   "metadata": {},
   "outputs": [],
   "source": [
    "import numpy as np"
   ]
  },
  {
   "cell_type": "code",
   "execution_count": 131,
   "metadata": {},
   "outputs": [],
   "source": [
    "##########################\n",
    "### MODEL\n",
    "##########################\n",
    "\n",
    "def sigmoid(z):                                        \n",
    "    return 1. / (1. + np.exp(-z))\n",
    "\n",
    "def int_to_onehot(y, num_labels):\n",
    "\n",
    "    ary = np.zeros((y.shape[0], num_labels))\n",
    "    for i, val in enumerate(y):\n",
    "        ary[i, val] = 1\n",
    "\n",
    "    return ary\n",
    "\n",
    "\n",
    "class NeuralNetMLP:\n",
    "\n",
    "    def __init__(self, num_features, num_hidden, num_classes, random_seed=123):\n",
    "        super().__init__()\n",
    "        \n",
    "        self.num_classes = num_classes\n",
    "        \n",
    "        # hidden\n",
    "        rng = np.random.RandomState(random_seed)\n",
    "        \n",
    "        self.weight_h = rng.normal(\n",
    "            loc=0.0, scale=0.1, size=(num_hidden, num_features))\n",
    "        self.bias_h = np.zeros(num_hidden)\n",
    "        \n",
    "        # output\n",
    "        self.weight_out = rng.normal(\n",
    "            loc=0.0, scale=0.1, size=(num_classes, num_hidden))\n",
    "        self.bias_out = np.zeros(num_classes)\n",
    "        \n",
    "    def forward(self, x):\n",
    "        # Hidden layer\n",
    "        # input dim: [n_examples, n_features] dot [n_hidden, n_features].T\n",
    "        # output dim: [n_examples, n_hidden]\n",
    "        z_h = np.dot(x, self.weight_h.T) + self.bias_h\n",
    "        a_h = sigmoid(z_h)\n",
    "\n",
    "        # Output layer\n",
    "        # input dim: [n_examples, n_hidden] dot [n_classes, n_hidden].T\n",
    "        # output dim: [n_examples, n_classes]\n",
    "        z_out = np.dot(a_h, self.weight_out.T) + self.bias_out\n",
    "        a_out = sigmoid(z_out)\n",
    "        return a_h, a_out\n",
    "\n",
    "    def backward(self, x, a_h, a_out, y):  \n",
    "    \n",
    "        #########################\n",
    "        ### Output layer weights\n",
    "        #########################\n",
    "        \n",
    "        # onehot encoding\n",
    "        y_onehot = int_to_onehot(y, self.num_classes)\n",
    "\n",
    "        # Part 1: dLoss/dOutWeights\n",
    "        ## = dLoss/dOutAct * dOutAct/dOutNet * dOutNet/dOutWeight\n",
    "        ## where DeltaOut = dLoss/dOutAct * dOutAct/dOutNet\n",
    "        ## for convenient re-use\n",
    "        \n",
    "        # input/output dim: [n_examples, n_classes]\n",
    "        d_loss__d_a_out = 2.*(a_out - y_onehot) / y.shape[0]\n",
    "\n",
    "        # input/output dim: [n_examples, n_classes]\n",
    "        d_a_out__d_z_out = a_out * (1. - a_out) # sigmoid derivative\n",
    "\n",
    "        # output dim: [n_examples, n_classes]\n",
    "        delta_out = d_loss__d_a_out * d_a_out__d_z_out # \"delta (rule) placeholder\"\n",
    "\n",
    "        # gradient for output weights\n",
    "        \n",
    "        # [n_examples, n_hidden]\n",
    "        d_z_out__dw_out = a_h\n",
    "        \n",
    "        # input dim: [n_classes, n_examples] dot [n_examples, n_hidden]\n",
    "        # output dim: [n_classes, n_hidden]\n",
    "        d_loss__dw_out = np.dot(delta_out.T, d_z_out__dw_out)\n",
    "        d_loss__db_out = np.sum(delta_out, axis=0)\n",
    "        \n",
    "\n",
    "        #################################        \n",
    "        # Part 2: dLoss/dHiddenWeights\n",
    "        ## = DeltaOut * dOutNet/dHiddenAct * dHiddenAct/dHiddenNet * dHiddenNet/dWeight\n",
    "        \n",
    "        # [n_classes, n_hidden]\n",
    "        d_z_out__a_h = self.weight_out\n",
    "        \n",
    "        # output dim: [n_examples, n_hidden]\n",
    "        d_loss__a_h = np.dot(delta_out, d_z_out__a_h)\n",
    "        \n",
    "        # [n_examples, n_hidden]\n",
    "        d_a_h__d_z_h = a_h * (1. - a_h) # sigmoid derivative\n",
    "        \n",
    "        # [n_examples, n_features]\n",
    "        d_z_h__d_w_h = x\n",
    "        \n",
    "        # output dim: [n_hidden, n_features]\n",
    "        d_loss__d_w_h = np.dot((d_loss__a_h * d_a_h__d_z_h).T, d_z_h__d_w_h)\n",
    "        d_loss__d_b_h = np.sum((d_loss__a_h * d_a_h__d_z_h), axis=0)\n",
    "\n",
    "        return (d_loss__dw_out, d_loss__db_out, \n",
    "                d_loss__d_w_h, d_loss__d_b_h)"
   ]
  },
  {
   "cell_type": "code",
   "execution_count": 132,
   "metadata": {},
   "outputs": [],
   "source": [
    "##########################\n",
    "### TWO LAYER MODEL - OUR IMPLEMENTATION\n",
    "##########################\n",
    "\n",
    "\n",
    "class NeuralNetMLP2L:\n",
    "\n",
    "    def __init__(self, num_features, num_hidden_h1, num_hidden_h2, num_classes, random_seed=123):\n",
    "        super().__init__()\n",
    "        \n",
    "        self.num_classes = num_classes\n",
    "        \n",
    "        # hidden\n",
    "        rng = np.random.RandomState(random_seed)\n",
    "\n",
    "        # hidden layer 1\n",
    "        self.weight_h1 = rng.normal(\n",
    "            loc=0.0, scale=0.1, size=(num_hidden_h1, num_features))\n",
    "        self.bias_h1 = np.zeros(num_hidden_h1)\n",
    "        \n",
    "        # hidden layer 2\n",
    "        self.weight_h2 = rng.normal(\n",
    "            loc=0.0, scale=0.1, size=(num_hidden_h2, num_hidden_h1))\n",
    "        self.bias_h2 = np.zeros(num_hidden_h2)\n",
    "        \n",
    "        # output\n",
    "        self.weight_out = rng.normal(\n",
    "            loc=0.0, scale=0.1, size=(num_classes, num_hidden_h2))\n",
    "        self.bias_out = np.zeros(num_classes)\n",
    "        \n",
    "    def forward(self, x):\n",
    "        # Hidden layer 1\n",
    "        # input dim: [n_examples, n_features] dot [n_hidden_h1, n_features].T\n",
    "        # output dim: [n_examples, n_hidden_h1]\n",
    "        z_h1 = np.dot(x, self.weight_h1.T) + self.bias_h1\n",
    "        a_h1 = sigmoid(z_h1)\n",
    "\n",
    "        # Hidden layer 2\n",
    "        # input dim: [n_examples, n_hidden_h1] dot [n_hidden_h2, n_hidden_h1].T\n",
    "        # output dim: [n_examples, n_hidden_h2]\n",
    "        z_h2 = np.dot(a_h1, self.weight_h2.T) + self.bias_h2\n",
    "        a_h2 = sigmoid(z_h2)\n",
    "\n",
    "\n",
    "        # Output layer\n",
    "        # input dim: [n_examples, n_hidden_h2] dot [n_classes, n_hidden_h2].T\n",
    "        # output dim: [n_examples, n_classes]\n",
    "        z_out = np.dot(a_h2, self.weight_out.T) + self.bias_out\n",
    "        a_out = sigmoid(z_out)\n",
    "        return a_h1, a_h2, a_out\n",
    "\n",
    "    def backward(self, x, a_h1, a_h2, a_out, y):  \n",
    "    \n",
    "        #########################\n",
    "        ### Output layer weights\n",
    "        #########################\n",
    "        \n",
    "        # onehot encoding\n",
    "        y_onehot = int_to_onehot(y, self.num_classes)\n",
    "\n",
    "        # Part 1: dLoss/dOutWeights\n",
    "        ## = dLoss/dOutAct * dOutAct/dOutNet * dOutNet/dOutWeight\n",
    "        ## where DeltaOut = dLoss/dOutAct * dOutAct/dOutNet\n",
    "        ## for convenient re-use\n",
    "        \n",
    "        # input/output dim: [n_examples, n_classes]\n",
    "        d_loss__d_a_out = 2.*(a_out - y_onehot) / y.shape[0]\n",
    "\n",
    "        # input/output dim: [n_examples, n_classes]\n",
    "        d_a_out__d_z_out = a_out * (1. - a_out) # sigmoid derivative\n",
    "\n",
    "        # output dim: [n_examples, n_classes]\n",
    "        delta_out = d_loss__d_a_out * d_a_out__d_z_out # \"delta (rule) placeholder\"\n",
    "\n",
    "        # gradient for output weights\n",
    "        \n",
    "        # [n_examples, n_hidden_h2]\n",
    "        d_z_out__dw_out = a_h2\n",
    "        \n",
    "        # input dim: [n_classes, n_examples] dot [n_examples, n_hidden_h2]\n",
    "        # output dim: [n_classes, n_hidden_h2]\n",
    "        d_loss__dw_out = np.dot(delta_out.T, d_z_out__dw_out)\n",
    "        d_loss__db_out = np.sum(delta_out, axis=0)\n",
    "\n",
    "        #################################        \n",
    "        # Part 2: dLoss/dHiddenWeights2\n",
    "        ## = DeltaOut * dOutNet/dHiddenAct * dHiddenAct/dHiddenNet * dHiddenNet/dWeight\n",
    "        \n",
    "        # [n_classes, n_hidden_h2]\n",
    "        d_z_out__a_h2 = self.weight_out\n",
    "        \n",
    "        # output dim: [n_examples, n_hidden_h2]\n",
    "        d_loss__a_h2 = np.dot(delta_out, d_z_out__a_h2)\n",
    "        \n",
    "        # [n_examples, n_hidden_h2]\n",
    "        d_a_h__d_z_h2 = a_h2 * (1. - a_h2) # sigmoid derivative\n",
    "\n",
    "        # Delta for hidden layer 2\n",
    "        delta_h2 = d_loss__a_h2 * d_a_h__d_z_h2\n",
    "        \n",
    "        # [n_examples, n_hidden_h1]\n",
    "        d_z_h__d_w_h2 = a_h1\n",
    "        \n",
    "        # output dim: [n_hidden, n_hidden_h1]\n",
    "        d_loss__d_w_h2 = np.dot((d_loss__a_h2 * d_a_h__d_z_h2).T, d_z_h__d_w_h2)\n",
    "        d_loss__d_b_h2 = np.sum((d_loss__a_h2 * d_a_h__d_z_h2), axis=0)\n",
    "            \n",
    "\n",
    "        #################################        \n",
    "        # Part 3: dLoss/dHiddenWeights1\n",
    "        ## = DeltaOut * dOutNet/dHiddenAct * dHiddenAct/dHiddenNet * dHiddenNet/dWeight\n",
    "        \n",
    "        # [n_classes, n_hidden]\n",
    "        d_z_out__a_h1 = self.weight_h2\n",
    "        \n",
    "        # output dim: [n_examples, n_hidden]\n",
    "        d_loss__a_h1 = np.dot(delta_h2, d_z_out__a_h1)\n",
    "        \n",
    "        # [n_examples, n_hidden]\n",
    "        d_a_h__d_z_h1 = a_h1 * (1. - a_h1) # sigmoid derivative\n",
    "        \n",
    "        # [n_examples, n_features]\n",
    "        d_z_h__d_w_h1 = x\n",
    "        \n",
    "        # output dim: [n_hidden, n_features]\n",
    "        d_loss__d_w_h1 = np.dot((d_loss__a_h1 * d_a_h__d_z_h1).T, d_z_h__d_w_h1)\n",
    "        d_loss__d_b_h1 = np.sum((d_loss__a_h1 * d_a_h__d_z_h1), axis=0)\n",
    "\n",
    "        return (d_loss__dw_out, d_loss__db_out, \n",
    "                d_loss__d_w_h2, d_loss__d_b_h2,\n",
    "                d_loss__d_w_h1, d_loss__d_b_h1)"
   ]
  },
  {
   "cell_type": "code",
   "execution_count": 164,
   "metadata": {},
   "outputs": [],
   "source": [
    "model = NeuralNetMLP(num_features=28*28,\n",
    "                     num_hidden=50,\n",
    "                     num_classes=10)"
   ]
  },
  {
   "cell_type": "code",
   "execution_count": 165,
   "metadata": {},
   "outputs": [],
   "source": [
    "model2L = NeuralNetMLP2L(num_features=28*28,\n",
    "                     num_hidden_h1=500,\n",
    "                     num_hidden_h2=500,\n",
    "                     num_classes=10)"
   ]
  },
  {
   "cell_type": "markdown",
   "metadata": {},
   "source": [
    "## Coding the neural network training loop"
   ]
  },
  {
   "cell_type": "markdown",
   "metadata": {},
   "source": [
    "Defining data loaders:"
   ]
  },
  {
   "cell_type": "code",
   "execution_count": 136,
   "metadata": {},
   "outputs": [],
   "source": [
    "import numpy as np\n",
    "\n",
    "num_epochs = 50\n",
    "minibatch_size = 100\n",
    "\n",
    "\n",
    "def minibatch_generator(X, y, minibatch_size):\n",
    "    indices = np.arange(X.shape[0])\n",
    "    np.random.shuffle(indices)\n",
    "\n",
    "    for start_idx in range(0, indices.shape[0] - minibatch_size \n",
    "                           + 1, minibatch_size):\n",
    "        batch_idx = indices[start_idx:start_idx + minibatch_size]\n",
    "        \n",
    "        yield X[batch_idx], y[batch_idx]"
   ]
  },
  {
   "cell_type": "markdown",
   "metadata": {},
   "source": [
    "Defining a function to compute the loss and accuracy"
   ]
  },
  {
   "cell_type": "code",
   "execution_count": null,
   "metadata": {},
   "outputs": [
    {
     "name": "stdout",
     "output_type": "stream",
     "text": [
      "Initial validation MSE: 0.3\n",
      "Initial validation accuracy: 9.2%\n"
     ]
    }
   ],
   "source": [
    "def mse_loss(targets, probas, num_labels=10):\n",
    "    onehot_targets = int_to_onehot(targets, num_labels=num_labels)\n",
    "    return np.mean((onehot_targets - probas)**2)\n",
    "\n",
    "\n",
    "def accuracy(targets, predicted_labels):\n",
    "    return np.mean(predicted_labels == targets) "
   ]
  },
  {
   "cell_type": "code",
   "execution_count": 157,
   "metadata": {},
   "outputs": [],
   "source": [
    "from sklearn.metrics import roc_auc_score\n",
    "\n",
    "def compute_mse_acc_auc(nnet, X, y, num_labels=10, minibatch_size=100):\n",
    "    mse, correct_pred, num_examples = 0., 0, 0\n",
    "    minibatch_gen = minibatch_generator(X, y, minibatch_size)\n",
    "        \n",
    "    for i, (features, targets) in enumerate(minibatch_gen):\n",
    "\n",
    "        *_, probas = nnet.forward(features)\n",
    "        predicted_labels = np.argmax(probas, axis=1)\n",
    "        \n",
    "        onehot_targets = int_to_onehot(targets, num_labels=num_labels)\n",
    "        loss = np.mean((onehot_targets - probas)**2)\n",
    "        correct_pred += (predicted_labels == targets).sum()\n",
    "        \n",
    "        num_examples += targets.shape[0]\n",
    "        mse += loss\n",
    "    auc = roc_auc_score(y_true=onehot_targets, y_score=int_to_onehot(predicted_labels, num_labels=num_labels), average='macro', multi_class='ovr')\n",
    "    mse = mse/(i+1)\n",
    "    acc = correct_pred/num_examples\n",
    "    return mse, acc, auc"
   ]
  },
  {
   "cell_type": "code",
   "execution_count": 163,
   "metadata": {},
   "outputs": [],
   "source": [
    "def train(model, X_train, y_train, X_valid, y_valid, num_epochs,\n",
    "          learning_rate=0.1):\n",
    "    \n",
    "    epoch_loss = []\n",
    "    epoch_train_acc = []\n",
    "    epoch_valid_acc = []\n",
    "    epoch_auc = []\n",
    "    \n",
    "    for e in range(num_epochs):\n",
    "\n",
    "        # iterate over minibatches\n",
    "        minibatch_gen = minibatch_generator(\n",
    "            X_train, y_train, minibatch_size)\n",
    "\n",
    "        for X_train_mini, y_train_mini in minibatch_gen:\n",
    "            \n",
    "            #### Compute outputs ####\n",
    "            a_h, a_out = model.forward(X_train_mini)\n",
    "\n",
    "            #### Compute gradients ####\n",
    "            d_loss__d_w_out, d_loss__d_b_out, d_loss__d_w_h, d_loss__d_b_h = \\\n",
    "                model.backward(X_train_mini, a_h, a_out, y_train_mini)\n",
    "\n",
    "            #### Update weights ####\n",
    "            model.weight_h -= learning_rate * d_loss__d_w_h\n",
    "            model.bias_h -= learning_rate * d_loss__d_b_h\n",
    "            model.weight_out -= learning_rate * d_loss__d_w_out\n",
    "            model.bias_out -= learning_rate * d_loss__d_b_out\n",
    "        \n",
    "        #### Epoch Logging ####        \n",
    "        train_mse, train_acc, train_auc = compute_mse_acc_auc(model, X_train, y_train)\n",
    "        valid_mse, valid_acc, valid_auc = compute_mse_acc_auc(model, X_valid, y_valid)\n",
    "        train_acc, valid_acc, train_auc = train_acc*100, valid_acc*100, train_auc*100\n",
    "        epoch_train_acc.append(train_acc)\n",
    "        epoch_valid_acc.append(valid_acc)\n",
    "        epoch_loss.append(train_mse)\n",
    "        epoch_auc.append(train_auc)\n",
    "        print(f'Epoch: {e+1:03d}/{num_epochs:03d} '\n",
    "              f'| Train MSE: {train_mse:.2f} '\n",
    "              f'| Train Acc: {train_acc:.2f}% '\n",
    "              f'| Train AUC: {train_auc:.2f}% '\n",
    "              f'| Valid Acc: {valid_acc:.2f}%')\n",
    "\n",
    "    return epoch_loss, epoch_train_acc, epoch_valid_acc, epoch_auc"
   ]
  },
  {
   "cell_type": "code",
   "execution_count": 162,
   "metadata": {},
   "outputs": [],
   "source": [
    "def train2L(model, X_train, y_train, X_valid, y_valid, num_epochs,\n",
    "          learning_rate=0.1):\n",
    "    \n",
    "    epoch_loss = []\n",
    "    epoch_train_acc = []\n",
    "    epoch_valid_acc = []\n",
    "    epoch_auc = []\n",
    "    \n",
    "    for e in range(num_epochs):\n",
    "\n",
    "        # iterate over minibatches\n",
    "        minibatch_gen = minibatch_generator(\n",
    "            X_train, y_train, minibatch_size)\n",
    "\n",
    "        for X_train_mini, y_train_mini in minibatch_gen:\n",
    "            \n",
    "            #### Compute outputs ####\n",
    "            a_h1, a_h2, a_out = model.forward(X_train_mini)\n",
    "\n",
    "            #### Compute gradients ####\n",
    "            d_loss__d_w_out, d_loss__d_b_out, d_loss__d_w_h2, d_loss__d_b_h2, d_loss__d_w_h1, d_loss__d_b_h1 = \\\n",
    "                model.backward(X_train_mini, a_h1, a_h2, a_out, y_train_mini)\n",
    "\n",
    "            #### Update weights ####\n",
    "            model.weight_h1 -= learning_rate * d_loss__d_w_h1\n",
    "            model.bias_h1 -= learning_rate * d_loss__d_b_h1\n",
    "            model.weight_h2 -= learning_rate * d_loss__d_w_h2\n",
    "            model.bias_h2 -= learning_rate * d_loss__d_b_h2\n",
    "            model.weight_out -= learning_rate * d_loss__d_w_out\n",
    "            model.bias_out -= learning_rate * d_loss__d_b_out\n",
    "        \n",
    "        #### Epoch Logging ####        \n",
    "        train_mse, train_acc, train_auc = compute_mse_acc_auc(model, X_train, y_train)\n",
    "        valid_mse, valid_acc, valid_auc = compute_mse_acc_auc(model, X_valid, y_valid)\n",
    "        train_acc, valid_acc, train_auc = train_acc*100, valid_acc*100, train_auc*100\n",
    "        epoch_train_acc.append(train_acc)\n",
    "        epoch_valid_acc.append(valid_acc)\n",
    "        epoch_loss.append(train_mse)\n",
    "        epoch_auc.append(train_auc)\n",
    "        print(f'Epoch: {e+1:03d}/{num_epochs:03d} '\n",
    "              f'| Train MSE: {train_mse:.2f} '\n",
    "              f'| Train Acc: {train_acc:.2f}% '\n",
    "              f'| Train AUC: {train_auc:.2f}% '\n",
    "              f'| Valid Acc: {valid_acc:.2f}%')\n",
    "\n",
    "    return epoch_loss, epoch_train_acc, epoch_valid_acc, epoch_auc"
   ]
  },
  {
   "cell_type": "code",
   "execution_count": 166,
   "metadata": {},
   "outputs": [
    {
     "name": "stdout",
     "output_type": "stream",
     "text": [
      "Epoch: 001/100 | Train MSE: 0.06 | Train Acc: 72.33% | Train AUC: 83.23% | Valid Acc: 72.29%\n",
      "Epoch: 002/100 | Train MSE: 0.04 | Train Acc: 83.85% | Train AUC: 92.91% | Valid Acc: 83.41%\n",
      "Epoch: 003/100 | Train MSE: 0.03 | Train Acc: 86.69% | Train AUC: 89.90% | Valid Acc: 86.10%\n",
      "Epoch: 004/100 | Train MSE: 0.02 | Train Acc: 88.34% | Train AUC: 91.44% | Valid Acc: 88.14%\n",
      "Epoch: 005/100 | Train MSE: 0.02 | Train Acc: 89.49% | Train AUC: 93.80% | Valid Acc: 89.33%\n",
      "Epoch: 006/100 | Train MSE: 0.02 | Train Acc: 90.10% | Train AUC: 95.17% | Valid Acc: 89.76%\n",
      "Epoch: 007/100 | Train MSE: 0.02 | Train Acc: 90.49% | Train AUC: 96.08% | Valid Acc: 90.08%\n",
      "Epoch: 008/100 | Train MSE: 0.02 | Train Acc: 90.81% | Train AUC: 95.79% | Valid Acc: 90.55%\n",
      "Epoch: 009/100 | Train MSE: 0.02 | Train Acc: 91.15% | Train AUC: 95.57% | Valid Acc: 91.02%\n",
      "Epoch: 010/100 | Train MSE: 0.02 | Train Acc: 91.50% | Train AUC: 96.98% | Valid Acc: 91.12%\n",
      "Epoch: 011/100 | Train MSE: 0.01 | Train Acc: 91.65% | Train AUC: 94.40% | Valid Acc: 91.24%\n",
      "Epoch: 012/100 | Train MSE: 0.01 | Train Acc: 91.93% | Train AUC: 94.35% | Valid Acc: 91.51%\n",
      "Epoch: 013/100 | Train MSE: 0.01 | Train Acc: 92.23% | Train AUC: 94.21% | Valid Acc: 91.73%\n",
      "Epoch: 014/100 | Train MSE: 0.01 | Train Acc: 92.29% | Train AUC: 97.06% | Valid Acc: 91.80%\n",
      "Epoch: 015/100 | Train MSE: 0.01 | Train Acc: 92.54% | Train AUC: 95.00% | Valid Acc: 92.12%\n",
      "Epoch: 016/100 | Train MSE: 0.01 | Train Acc: 92.52% | Train AUC: 94.51% | Valid Acc: 92.12%\n",
      "Epoch: 017/100 | Train MSE: 0.01 | Train Acc: 92.75% | Train AUC: 97.86% | Valid Acc: 92.37%\n",
      "Epoch: 018/100 | Train MSE: 0.01 | Train Acc: 92.91% | Train AUC: 96.53% | Valid Acc: 92.65%\n",
      "Epoch: 019/100 | Train MSE: 0.01 | Train Acc: 93.08% | Train AUC: 96.44% | Valid Acc: 92.76%\n",
      "Epoch: 020/100 | Train MSE: 0.01 | Train Acc: 93.25% | Train AUC: 96.20% | Valid Acc: 92.86%\n",
      "Epoch: 021/100 | Train MSE: 0.01 | Train Acc: 93.31% | Train AUC: 97.70% | Valid Acc: 93.06%\n",
      "Epoch: 022/100 | Train MSE: 0.01 | Train Acc: 93.42% | Train AUC: 96.85% | Valid Acc: 93.18%\n",
      "Epoch: 023/100 | Train MSE: 0.01 | Train Acc: 93.50% | Train AUC: 98.79% | Valid Acc: 93.08%\n",
      "Epoch: 024/100 | Train MSE: 0.01 | Train Acc: 93.66% | Train AUC: 97.83% | Valid Acc: 93.10%\n",
      "Epoch: 025/100 | Train MSE: 0.01 | Train Acc: 93.67% | Train AUC: 98.46% | Valid Acc: 93.20%\n",
      "Epoch: 026/100 | Train MSE: 0.01 | Train Acc: 93.86% | Train AUC: 97.03% | Valid Acc: 93.24%\n",
      "Epoch: 027/100 | Train MSE: 0.01 | Train Acc: 93.90% | Train AUC: 97.76% | Valid Acc: 93.33%\n",
      "Epoch: 028/100 | Train MSE: 0.01 | Train Acc: 93.95% | Train AUC: 95.74% | Valid Acc: 93.47%\n",
      "Epoch: 029/100 | Train MSE: 0.01 | Train Acc: 94.05% | Train AUC: 93.73% | Valid Acc: 93.41%\n",
      "Epoch: 030/100 | Train MSE: 0.01 | Train Acc: 94.07% | Train AUC: 97.12% | Valid Acc: 93.57%\n",
      "Epoch: 031/100 | Train MSE: 0.01 | Train Acc: 94.17% | Train AUC: 97.26% | Valid Acc: 93.61%\n",
      "Epoch: 032/100 | Train MSE: 0.01 | Train Acc: 94.25% | Train AUC: 96.40% | Valid Acc: 93.51%\n",
      "Epoch: 033/100 | Train MSE: 0.01 | Train Acc: 94.36% | Train AUC: 95.95% | Valid Acc: 93.65%\n",
      "Epoch: 034/100 | Train MSE: 0.01 | Train Acc: 94.45% | Train AUC: 95.54% | Valid Acc: 93.76%\n",
      "Epoch: 035/100 | Train MSE: 0.01 | Train Acc: 94.46% | Train AUC: 97.48% | Valid Acc: 93.88%\n",
      "Epoch: 036/100 | Train MSE: 0.01 | Train Acc: 94.55% | Train AUC: 95.26% | Valid Acc: 93.86%\n",
      "Epoch: 037/100 | Train MSE: 0.01 | Train Acc: 94.65% | Train AUC: 97.11% | Valid Acc: 93.98%\n",
      "Epoch: 038/100 | Train MSE: 0.01 | Train Acc: 94.66% | Train AUC: 96.23% | Valid Acc: 93.90%\n",
      "Epoch: 039/100 | Train MSE: 0.01 | Train Acc: 94.73% | Train AUC: 97.06% | Valid Acc: 94.04%\n",
      "Epoch: 040/100 | Train MSE: 0.01 | Train Acc: 94.77% | Train AUC: 99.53% | Valid Acc: 93.98%\n",
      "Epoch: 041/100 | Train MSE: 0.01 | Train Acc: 94.86% | Train AUC: 98.47% | Valid Acc: 94.12%\n",
      "Epoch: 042/100 | Train MSE: 0.01 | Train Acc: 94.90% | Train AUC: 97.48% | Valid Acc: 94.14%\n",
      "Epoch: 043/100 | Train MSE: 0.01 | Train Acc: 94.94% | Train AUC: 96.84% | Valid Acc: 94.04%\n",
      "Epoch: 044/100 | Train MSE: 0.01 | Train Acc: 94.99% | Train AUC: 98.33% | Valid Acc: 94.06%\n",
      "Epoch: 045/100 | Train MSE: 0.01 | Train Acc: 95.00% | Train AUC: 92.43% | Valid Acc: 94.24%\n",
      "Epoch: 046/100 | Train MSE: 0.01 | Train Acc: 95.09% | Train AUC: 99.05% | Valid Acc: 94.35%\n",
      "Epoch: 047/100 | Train MSE: 0.01 | Train Acc: 95.12% | Train AUC: 97.74% | Valid Acc: 94.20%\n",
      "Epoch: 048/100 | Train MSE: 0.01 | Train Acc: 95.17% | Train AUC: 96.31% | Valid Acc: 94.37%\n",
      "Epoch: 049/100 | Train MSE: 0.01 | Train Acc: 95.15% | Train AUC: 96.48% | Valid Acc: 94.47%\n",
      "Epoch: 050/100 | Train MSE: 0.01 | Train Acc: 95.28% | Train AUC: 97.81% | Valid Acc: 94.49%\n",
      "Epoch: 051/100 | Train MSE: 0.01 | Train Acc: 95.28% | Train AUC: 97.34% | Valid Acc: 94.39%\n",
      "Epoch: 052/100 | Train MSE: 0.01 | Train Acc: 95.36% | Train AUC: 98.26% | Valid Acc: 94.43%\n",
      "Epoch: 053/100 | Train MSE: 0.01 | Train Acc: 95.40% | Train AUC: 96.03% | Valid Acc: 94.47%\n",
      "Epoch: 054/100 | Train MSE: 0.01 | Train Acc: 95.39% | Train AUC: 97.10% | Valid Acc: 94.45%\n",
      "Epoch: 055/100 | Train MSE: 0.01 | Train Acc: 95.48% | Train AUC: 97.69% | Valid Acc: 94.59%\n",
      "Epoch: 056/100 | Train MSE: 0.01 | Train Acc: 95.43% | Train AUC: 96.91% | Valid Acc: 94.53%\n",
      "Epoch: 057/100 | Train MSE: 0.01 | Train Acc: 95.56% | Train AUC: 98.53% | Valid Acc: 94.55%\n",
      "Epoch: 058/100 | Train MSE: 0.01 | Train Acc: 95.59% | Train AUC: 98.57% | Valid Acc: 94.59%\n",
      "Epoch: 059/100 | Train MSE: 0.01 | Train Acc: 95.58% | Train AUC: 96.72% | Valid Acc: 94.65%\n",
      "Epoch: 060/100 | Train MSE: 0.01 | Train Acc: 95.60% | Train AUC: 96.06% | Valid Acc: 94.49%\n",
      "Epoch: 061/100 | Train MSE: 0.01 | Train Acc: 95.67% | Train AUC: 99.00% | Valid Acc: 94.67%\n",
      "Epoch: 062/100 | Train MSE: 0.01 | Train Acc: 95.64% | Train AUC: 98.79% | Valid Acc: 94.63%\n",
      "Epoch: 063/100 | Train MSE: 0.01 | Train Acc: 95.74% | Train AUC: 97.88% | Valid Acc: 94.67%\n",
      "Epoch: 064/100 | Train MSE: 0.01 | Train Acc: 95.80% | Train AUC: 98.47% | Valid Acc: 94.76%\n",
      "Epoch: 065/100 | Train MSE: 0.01 | Train Acc: 95.88% | Train AUC: 98.59% | Valid Acc: 94.84%\n",
      "Epoch: 066/100 | Train MSE: 0.01 | Train Acc: 95.85% | Train AUC: 98.66% | Valid Acc: 94.76%\n",
      "Epoch: 067/100 | Train MSE: 0.01 | Train Acc: 95.88% | Train AUC: 95.40% | Valid Acc: 94.82%\n",
      "Epoch: 068/100 | Train MSE: 0.01 | Train Acc: 95.91% | Train AUC: 95.39% | Valid Acc: 94.78%\n",
      "Epoch: 069/100 | Train MSE: 0.01 | Train Acc: 95.91% | Train AUC: 97.27% | Valid Acc: 94.84%\n",
      "Epoch: 070/100 | Train MSE: 0.01 | Train Acc: 95.97% | Train AUC: 98.64% | Valid Acc: 94.98%\n",
      "Epoch: 071/100 | Train MSE: 0.01 | Train Acc: 96.02% | Train AUC: 98.77% | Valid Acc: 95.04%\n",
      "Epoch: 072/100 | Train MSE: 0.01 | Train Acc: 96.04% | Train AUC: 98.44% | Valid Acc: 95.02%\n",
      "Epoch: 073/100 | Train MSE: 0.01 | Train Acc: 96.07% | Train AUC: 98.68% | Valid Acc: 95.02%\n",
      "Epoch: 074/100 | Train MSE: 0.01 | Train Acc: 96.09% | Train AUC: 98.85% | Valid Acc: 94.96%\n",
      "Epoch: 075/100 | Train MSE: 0.01 | Train Acc: 96.12% | Train AUC: 99.09% | Valid Acc: 94.98%\n",
      "Epoch: 076/100 | Train MSE: 0.01 | Train Acc: 96.13% | Train AUC: 98.48% | Valid Acc: 95.00%\n",
      "Epoch: 077/100 | Train MSE: 0.01 | Train Acc: 96.17% | Train AUC: 97.44% | Valid Acc: 95.12%\n",
      "Epoch: 078/100 | Train MSE: 0.01 | Train Acc: 96.22% | Train AUC: 98.09% | Valid Acc: 95.12%\n",
      "Epoch: 079/100 | Train MSE: 0.01 | Train Acc: 96.24% | Train AUC: 99.22% | Valid Acc: 95.10%\n",
      "Epoch: 080/100 | Train MSE: 0.01 | Train Acc: 96.28% | Train AUC: 97.87% | Valid Acc: 95.10%\n",
      "Epoch: 081/100 | Train MSE: 0.01 | Train Acc: 96.24% | Train AUC: 99.01% | Valid Acc: 95.10%\n",
      "Epoch: 082/100 | Train MSE: 0.01 | Train Acc: 96.31% | Train AUC: 97.65% | Valid Acc: 95.22%\n",
      "Epoch: 083/100 | Train MSE: 0.01 | Train Acc: 96.34% | Train AUC: 96.95% | Valid Acc: 95.22%\n",
      "Epoch: 084/100 | Train MSE: 0.01 | Train Acc: 96.36% | Train AUC: 96.32% | Valid Acc: 95.22%\n",
      "Epoch: 085/100 | Train MSE: 0.01 | Train Acc: 96.39% | Train AUC: 98.25% | Valid Acc: 95.31%\n",
      "Epoch: 086/100 | Train MSE: 0.01 | Train Acc: 96.41% | Train AUC: 99.22% | Valid Acc: 95.22%\n",
      "Epoch: 087/100 | Train MSE: 0.01 | Train Acc: 96.40% | Train AUC: 97.67% | Valid Acc: 95.20%\n",
      "Epoch: 088/100 | Train MSE: 0.01 | Train Acc: 96.46% | Train AUC: 100.00% | Valid Acc: 95.29%\n",
      "Epoch: 089/100 | Train MSE: 0.01 | Train Acc: 96.46% | Train AUC: 96.35% | Valid Acc: 95.29%\n",
      "Epoch: 090/100 | Train MSE: 0.01 | Train Acc: 96.54% | Train AUC: 97.70% | Valid Acc: 95.31%\n",
      "Epoch: 091/100 | Train MSE: 0.01 | Train Acc: 96.55% | Train AUC: 97.98% | Valid Acc: 95.47%\n",
      "Epoch: 092/100 | Train MSE: 0.01 | Train Acc: 96.55% | Train AUC: 99.02% | Valid Acc: 95.37%\n",
      "Epoch: 093/100 | Train MSE: 0.01 | Train Acc: 96.54% | Train AUC: 97.93% | Valid Acc: 95.39%\n",
      "Epoch: 094/100 | Train MSE: 0.01 | Train Acc: 96.56% | Train AUC: 98.17% | Valid Acc: 95.18%\n",
      "Epoch: 095/100 | Train MSE: 0.01 | Train Acc: 96.64% | Train AUC: 99.14% | Valid Acc: 95.39%\n",
      "Epoch: 096/100 | Train MSE: 0.01 | Train Acc: 96.60% | Train AUC: 96.93% | Valid Acc: 95.41%\n",
      "Epoch: 097/100 | Train MSE: 0.01 | Train Acc: 96.67% | Train AUC: 99.09% | Valid Acc: 95.55%\n",
      "Epoch: 098/100 | Train MSE: 0.01 | Train Acc: 96.68% | Train AUC: 94.94% | Valid Acc: 95.65%\n",
      "Epoch: 099/100 | Train MSE: 0.01 | Train Acc: 96.73% | Train AUC: 96.45% | Valid Acc: 95.35%\n",
      "Epoch: 100/100 | Train MSE: 0.01 | Train Acc: 96.74% | Train AUC: 98.12% | Valid Acc: 95.51%\n"
     ]
    }
   ],
   "source": [
    "np.random.seed(123) # for the training set shuffling\n",
    "\n",
    "epoch_loss1, epoch_train_acc1, epoch_valid_acc1, epoch_auc1 = train(\n",
    "    model, X_train, y_train, X_valid, y_valid,\n",
    "    num_epochs=100, learning_rate=0.1)"
   ]
  },
  {
   "cell_type": "code",
   "execution_count": 167,
   "metadata": {},
   "outputs": [
    {
     "name": "stdout",
     "output_type": "stream",
     "text": [
      "Epoch: 001/100 | Train MSE: 0.04 | Train Acc: 82.96% | Train AUC: 93.62% | Valid Acc: 82.61%\n",
      "Epoch: 002/100 | Train MSE: 0.03 | Train Acc: 87.49% | Train AUC: 94.33% | Valid Acc: 87.49%\n",
      "Epoch: 003/100 | Train MSE: 0.02 | Train Acc: 88.79% | Train AUC: 91.55% | Valid Acc: 88.67%\n",
      "Epoch: 004/100 | Train MSE: 0.02 | Train Acc: 89.83% | Train AUC: 94.04% | Valid Acc: 89.53%\n",
      "Epoch: 005/100 | Train MSE: 0.02 | Train Acc: 90.63% | Train AUC: 94.56% | Valid Acc: 90.53%\n",
      "Epoch: 006/100 | Train MSE: 0.02 | Train Acc: 91.15% | Train AUC: 95.83% | Valid Acc: 90.65%\n",
      "Epoch: 007/100 | Train MSE: 0.02 | Train Acc: 91.57% | Train AUC: 97.79% | Valid Acc: 91.04%\n",
      "Epoch: 008/100 | Train MSE: 0.02 | Train Acc: 91.72% | Train AUC: 97.05% | Valid Acc: 91.00%\n",
      "Epoch: 009/100 | Train MSE: 0.01 | Train Acc: 92.17% | Train AUC: 95.97% | Valid Acc: 91.67%\n",
      "Epoch: 010/100 | Train MSE: 0.01 | Train Acc: 92.51% | Train AUC: 96.99% | Valid Acc: 92.06%\n",
      "Epoch: 011/100 | Train MSE: 0.01 | Train Acc: 92.66% | Train AUC: 95.98% | Valid Acc: 92.41%\n",
      "Epoch: 012/100 | Train MSE: 0.01 | Train Acc: 92.90% | Train AUC: 94.90% | Valid Acc: 92.45%\n",
      "Epoch: 013/100 | Train MSE: 0.01 | Train Acc: 93.24% | Train AUC: 94.77% | Valid Acc: 93.00%\n",
      "Epoch: 014/100 | Train MSE: 0.01 | Train Acc: 93.37% | Train AUC: 97.63% | Valid Acc: 92.98%\n",
      "Epoch: 015/100 | Train MSE: 0.01 | Train Acc: 93.64% | Train AUC: 95.96% | Valid Acc: 93.31%\n",
      "Epoch: 016/100 | Train MSE: 0.01 | Train Acc: 93.74% | Train AUC: 94.65% | Valid Acc: 93.33%\n",
      "Epoch: 017/100 | Train MSE: 0.01 | Train Acc: 93.89% | Train AUC: 96.84% | Valid Acc: 93.53%\n",
      "Epoch: 018/100 | Train MSE: 0.01 | Train Acc: 94.09% | Train AUC: 96.41% | Valid Acc: 93.71%\n",
      "Epoch: 019/100 | Train MSE: 0.01 | Train Acc: 94.25% | Train AUC: 95.67% | Valid Acc: 93.82%\n",
      "Epoch: 020/100 | Train MSE: 0.01 | Train Acc: 94.59% | Train AUC: 97.25% | Valid Acc: 94.00%\n",
      "Epoch: 021/100 | Train MSE: 0.01 | Train Acc: 94.63% | Train AUC: 98.83% | Valid Acc: 94.10%\n",
      "Epoch: 022/100 | Train MSE: 0.01 | Train Acc: 94.80% | Train AUC: 97.46% | Valid Acc: 94.20%\n",
      "Epoch: 023/100 | Train MSE: 0.01 | Train Acc: 94.85% | Train AUC: 99.23% | Valid Acc: 94.22%\n",
      "Epoch: 024/100 | Train MSE: 0.01 | Train Acc: 95.08% | Train AUC: 96.89% | Valid Acc: 94.37%\n",
      "Epoch: 025/100 | Train MSE: 0.01 | Train Acc: 95.07% | Train AUC: 98.46% | Valid Acc: 94.33%\n",
      "Epoch: 026/100 | Train MSE: 0.01 | Train Acc: 95.27% | Train AUC: 97.00% | Valid Acc: 94.78%\n",
      "Epoch: 027/100 | Train MSE: 0.01 | Train Acc: 95.41% | Train AUC: 98.27% | Valid Acc: 94.84%\n",
      "Epoch: 028/100 | Train MSE: 0.01 | Train Acc: 95.51% | Train AUC: 96.57% | Valid Acc: 94.90%\n",
      "Epoch: 029/100 | Train MSE: 0.01 | Train Acc: 95.48% | Train AUC: 95.62% | Valid Acc: 94.76%\n",
      "Epoch: 030/100 | Train MSE: 0.01 | Train Acc: 95.68% | Train AUC: 97.56% | Valid Acc: 94.98%\n",
      "Epoch: 031/100 | Train MSE: 0.01 | Train Acc: 95.87% | Train AUC: 97.26% | Valid Acc: 95.04%\n",
      "Epoch: 032/100 | Train MSE: 0.01 | Train Acc: 95.89% | Train AUC: 97.29% | Valid Acc: 95.04%\n",
      "Epoch: 033/100 | Train MSE: 0.01 | Train Acc: 96.02% | Train AUC: 95.95% | Valid Acc: 95.31%\n",
      "Epoch: 034/100 | Train MSE: 0.01 | Train Acc: 96.02% | Train AUC: 97.73% | Valid Acc: 95.29%\n",
      "Epoch: 035/100 | Train MSE: 0.01 | Train Acc: 96.16% | Train AUC: 98.94% | Valid Acc: 95.35%\n",
      "Epoch: 036/100 | Train MSE: 0.01 | Train Acc: 96.25% | Train AUC: 96.83% | Valid Acc: 95.33%\n",
      "Epoch: 037/100 | Train MSE: 0.01 | Train Acc: 96.39% | Train AUC: 97.62% | Valid Acc: 95.61%\n",
      "Epoch: 038/100 | Train MSE: 0.01 | Train Acc: 96.42% | Train AUC: 96.64% | Valid Acc: 95.63%\n",
      "Epoch: 039/100 | Train MSE: 0.01 | Train Acc: 96.50% | Train AUC: 97.47% | Valid Acc: 95.51%\n",
      "Epoch: 040/100 | Train MSE: 0.01 | Train Acc: 96.50% | Train AUC: 99.02% | Valid Acc: 95.82%\n",
      "Epoch: 041/100 | Train MSE: 0.01 | Train Acc: 96.65% | Train AUC: 98.98% | Valid Acc: 95.78%\n",
      "Epoch: 042/100 | Train MSE: 0.01 | Train Acc: 96.68% | Train AUC: 98.16% | Valid Acc: 95.86%\n",
      "Epoch: 043/100 | Train MSE: 0.01 | Train Acc: 96.78% | Train AUC: 98.61% | Valid Acc: 95.92%\n",
      "Epoch: 044/100 | Train MSE: 0.01 | Train Acc: 96.88% | Train AUC: 98.88% | Valid Acc: 95.96%\n",
      "Epoch: 045/100 | Train MSE: 0.01 | Train Acc: 96.85% | Train AUC: 96.63% | Valid Acc: 95.86%\n",
      "Epoch: 046/100 | Train MSE: 0.01 | Train Acc: 96.98% | Train AUC: 100.00% | Valid Acc: 96.14%\n",
      "Epoch: 047/100 | Train MSE: 0.01 | Train Acc: 97.00% | Train AUC: 97.55% | Valid Acc: 95.92%\n",
      "Epoch: 048/100 | Train MSE: 0.01 | Train Acc: 97.05% | Train AUC: 97.40% | Valid Acc: 96.14%\n",
      "Epoch: 049/100 | Train MSE: 0.01 | Train Acc: 97.10% | Train AUC: 98.83% | Valid Acc: 96.06%\n",
      "Epoch: 050/100 | Train MSE: 0.01 | Train Acc: 97.18% | Train AUC: 97.90% | Valid Acc: 96.16%\n",
      "Epoch: 051/100 | Train MSE: 0.01 | Train Acc: 97.26% | Train AUC: 98.20% | Valid Acc: 96.24%\n",
      "Epoch: 052/100 | Train MSE: 0.01 | Train Acc: 97.34% | Train AUC: 99.56% | Valid Acc: 96.47%\n",
      "Epoch: 053/100 | Train MSE: 0.01 | Train Acc: 97.34% | Train AUC: 96.94% | Valid Acc: 96.41%\n",
      "Epoch: 054/100 | Train MSE: 0.01 | Train Acc: 97.36% | Train AUC: 98.64% | Valid Acc: 96.49%\n",
      "Epoch: 055/100 | Train MSE: 0.01 | Train Acc: 97.46% | Train AUC: 97.69% | Valid Acc: 96.57%\n",
      "Epoch: 056/100 | Train MSE: 0.01 | Train Acc: 97.42% | Train AUC: 97.35% | Valid Acc: 96.35%\n",
      "Epoch: 057/100 | Train MSE: 0.00 | Train Acc: 97.51% | Train AUC: 98.53% | Valid Acc: 96.41%\n",
      "Epoch: 058/100 | Train MSE: 0.00 | Train Acc: 97.59% | Train AUC: 100.00% | Valid Acc: 96.65%\n",
      "Epoch: 059/100 | Train MSE: 0.00 | Train Acc: 97.57% | Train AUC: 98.33% | Valid Acc: 96.49%\n",
      "Epoch: 060/100 | Train MSE: 0.00 | Train Acc: 97.65% | Train AUC: 97.97% | Valid Acc: 96.47%\n",
      "Epoch: 061/100 | Train MSE: 0.00 | Train Acc: 97.71% | Train AUC: 99.00% | Valid Acc: 96.61%\n",
      "Epoch: 062/100 | Train MSE: 0.00 | Train Acc: 97.71% | Train AUC: 99.56% | Valid Acc: 96.59%\n",
      "Epoch: 063/100 | Train MSE: 0.00 | Train Acc: 97.75% | Train AUC: 98.87% | Valid Acc: 96.55%\n",
      "Epoch: 064/100 | Train MSE: 0.00 | Train Acc: 97.89% | Train AUC: 98.50% | Valid Acc: 96.61%\n",
      "Epoch: 065/100 | Train MSE: 0.00 | Train Acc: 97.85% | Train AUC: 99.53% | Valid Acc: 96.76%\n",
      "Epoch: 066/100 | Train MSE: 0.00 | Train Acc: 97.89% | Train AUC: 99.34% | Valid Acc: 96.80%\n",
      "Epoch: 067/100 | Train MSE: 0.00 | Train Acc: 97.87% | Train AUC: 97.98% | Valid Acc: 96.82%\n",
      "Epoch: 068/100 | Train MSE: 0.00 | Train Acc: 97.95% | Train AUC: 97.80% | Valid Acc: 96.96%\n",
      "Epoch: 069/100 | Train MSE: 0.00 | Train Acc: 98.01% | Train AUC: 98.88% | Valid Acc: 97.02%\n",
      "Epoch: 070/100 | Train MSE: 0.00 | Train Acc: 98.02% | Train AUC: 100.00% | Valid Acc: 96.86%\n",
      "Epoch: 071/100 | Train MSE: 0.00 | Train Acc: 98.07% | Train AUC: 99.14% | Valid Acc: 97.02%\n",
      "Epoch: 072/100 | Train MSE: 0.00 | Train Acc: 98.10% | Train AUC: 99.05% | Valid Acc: 96.90%\n",
      "Epoch: 073/100 | Train MSE: 0.00 | Train Acc: 98.11% | Train AUC: 100.00% | Valid Acc: 96.86%\n",
      "Epoch: 074/100 | Train MSE: 0.00 | Train Acc: 98.15% | Train AUC: 98.85% | Valid Acc: 97.08%\n",
      "Epoch: 075/100 | Train MSE: 0.00 | Train Acc: 98.16% | Train AUC: 99.56% | Valid Acc: 96.98%\n",
      "Epoch: 076/100 | Train MSE: 0.00 | Train Acc: 98.15% | Train AUC: 99.45% | Valid Acc: 97.02%\n",
      "Epoch: 077/100 | Train MSE: 0.00 | Train Acc: 98.24% | Train AUC: 100.00% | Valid Acc: 97.06%\n",
      "Epoch: 078/100 | Train MSE: 0.00 | Train Acc: 98.24% | Train AUC: 98.98% | Valid Acc: 97.04%\n",
      "Epoch: 079/100 | Train MSE: 0.00 | Train Acc: 98.24% | Train AUC: 99.22% | Valid Acc: 96.98%\n",
      "Epoch: 080/100 | Train MSE: 0.00 | Train Acc: 98.31% | Train AUC: 98.35% | Valid Acc: 97.04%\n",
      "Epoch: 081/100 | Train MSE: 0.00 | Train Acc: 98.34% | Train AUC: 100.00% | Valid Acc: 97.10%\n",
      "Epoch: 082/100 | Train MSE: 0.00 | Train Acc: 98.35% | Train AUC: 97.65% | Valid Acc: 97.12%\n",
      "Epoch: 083/100 | Train MSE: 0.00 | Train Acc: 98.39% | Train AUC: 98.50% | Valid Acc: 97.20%\n",
      "Epoch: 084/100 | Train MSE: 0.00 | Train Acc: 98.39% | Train AUC: 97.46% | Valid Acc: 97.16%\n",
      "Epoch: 085/100 | Train MSE: 0.00 | Train Acc: 98.44% | Train AUC: 98.62% | Valid Acc: 97.22%\n",
      "Epoch: 086/100 | Train MSE: 0.00 | Train Acc: 98.45% | Train AUC: 99.61% | Valid Acc: 97.16%\n",
      "Epoch: 087/100 | Train MSE: 0.00 | Train Acc: 98.47% | Train AUC: 98.43% | Valid Acc: 97.37%\n",
      "Epoch: 088/100 | Train MSE: 0.00 | Train Acc: 98.49% | Train AUC: 100.00% | Valid Acc: 97.20%\n",
      "Epoch: 089/100 | Train MSE: 0.00 | Train Acc: 98.53% | Train AUC: 97.34% | Valid Acc: 97.29%\n",
      "Epoch: 090/100 | Train MSE: 0.00 | Train Acc: 98.54% | Train AUC: 98.94% | Valid Acc: 97.24%\n",
      "Epoch: 091/100 | Train MSE: 0.00 | Train Acc: 98.56% | Train AUC: 99.05% | Valid Acc: 97.18%\n",
      "Epoch: 092/100 | Train MSE: 0.00 | Train Acc: 98.59% | Train AUC: 99.53% | Valid Acc: 97.39%\n",
      "Epoch: 093/100 | Train MSE: 0.00 | Train Acc: 98.63% | Train AUC: 99.44% | Valid Acc: 97.27%\n",
      "Epoch: 094/100 | Train MSE: 0.00 | Train Acc: 98.63% | Train AUC: 99.39% | Valid Acc: 97.43%\n",
      "Epoch: 095/100 | Train MSE: 0.00 | Train Acc: 98.63% | Train AUC: 100.00% | Valid Acc: 97.33%\n",
      "Epoch: 096/100 | Train MSE: 0.00 | Train Acc: 98.66% | Train AUC: 100.00% | Valid Acc: 97.43%\n",
      "Epoch: 097/100 | Train MSE: 0.00 | Train Acc: 98.70% | Train AUC: 99.53% | Valid Acc: 97.45%\n",
      "Epoch: 098/100 | Train MSE: 0.00 | Train Acc: 98.68% | Train AUC: 97.67% | Valid Acc: 97.43%\n",
      "Epoch: 099/100 | Train MSE: 0.00 | Train Acc: 98.73% | Train AUC: 98.15% | Valid Acc: 97.47%\n",
      "Epoch: 100/100 | Train MSE: 0.00 | Train Acc: 98.73% | Train AUC: 98.67% | Valid Acc: 97.27%\n"
     ]
    }
   ],
   "source": [
    "np.random.seed(123) # for the training set shuffling\n",
    "\n",
    "epoch_loss2, epoch_train_acc2, epoch_valid_acc2, epoch_auc2 = train2L(\n",
    "    model2L, X_train, y_train, X_valid, y_valid,\n",
    "    num_epochs=100, learning_rate=0.1)"
   ]
  },
  {
   "cell_type": "markdown",
   "metadata": {},
   "source": [
    "## Evaluating the neural network performance"
   ]
  },
  {
   "cell_type": "code",
   "execution_count": 168,
   "metadata": {},
   "outputs": [
    {
     "data": {
      "image/png": "[encoded data removed]",
      "text/plain": [
       "<Figure size 640x480 with 1 Axes>"
      ]
     },
     "metadata": {},
     "output_type": "display_data"
    }
   ],
   "source": [
    "plt.plot(range(len(epoch_auc1)), epoch_auc1,\n",
    "         label='Model1L')\n",
    "plt.plot(range(len(epoch_auc2)), epoch_auc2,\n",
    "         label='Model2L')\n",
    "plt.ylabel('Macro AUC')\n",
    "plt.xlabel('Epochs')\n",
    "plt.legend(loc='lower right')\n",
    "#plt.savefig('figures/11_08.png', dpi=300)\n",
    "plt.show()"
   ]
  },
  {
   "cell_type": "code",
   "execution_count": 169,
   "metadata": {},
   "outputs": [
    {
     "data": {
      "image/png": "[encoded data removed]",
      "text/plain": [
       "<Figure size 640x480 with 1 Axes>"
      ]
     },
     "metadata": {},
     "output_type": "display_data"
    }
   ],
   "source": [
    "plt.plot(range(len(epoch_train_acc1)), epoch_train_acc1,\n",
    "         label='Training')\n",
    "plt.plot(range(len(epoch_valid_acc1)), epoch_valid_acc1,\n",
    "         label='Validation')\n",
    "plt.ylabel('Accuracy')\n",
    "plt.xlabel('Epochs')\n",
    "plt.legend(loc='lower right')\n",
    "#plt.savefig('figures/11_08.png', dpi=300)\n",
    "plt.show()"
   ]
  },
  {
   "cell_type": "code",
   "execution_count": 170,
   "metadata": {},
   "outputs": [
    {
     "data": {
      "image/png": "[encoded data removed]",
      "text/plain": [
       "<Figure size 640x480 with 1 Axes>"
      ]
     },
     "metadata": {},
     "output_type": "display_data"
    }
   ],
   "source": [
    "plt.plot(range(len(epoch_train_acc2)), epoch_train_acc2,\n",
    "         label='Training')\n",
    "plt.plot(range(len(epoch_valid_acc2)), epoch_valid_acc2,\n",
    "         label='Validation')\n",
    "plt.ylabel('Accuracy')\n",
    "plt.xlabel('Epochs')\n",
    "plt.legend(loc='lower right')\n",
    "#plt.savefig('figures/11_08.png', dpi=300)\n",
    "plt.show()"
   ]
  },
  {
   "cell_type": "code",
   "execution_count": 171,
   "metadata": {},
   "outputs": [
    {
     "name": "stdout",
     "output_type": "stream",
     "text": [
      "Test accuracy: 95.39%\n",
      "Test AUC: 95.84%\n"
     ]
    }
   ],
   "source": [
    "test_mse, test_acc, test_auc = compute_mse_acc_auc(model, X_test, y_test)\n",
    "print(f'Test accuracy: {test_acc*100:.2f}%')\n",
    "print(f'Test AUC: {test_auc*100:.2f}%')"
   ]
  },
  {
   "cell_type": "code",
   "execution_count": 172,
   "metadata": {},
   "outputs": [
    {
     "name": "stdout",
     "output_type": "stream",
     "text": [
      "Test accuracy: 97.27%\n",
      "Test AUC: 99.53%\n"
     ]
    }
   ],
   "source": [
    "test_mse, test_acc, test_auc = compute_mse_acc_auc(model2L, X_test, y_test)\n",
    "print(f'Test accuracy: {test_acc*100:.2f}%')\n",
    "print(f'Test AUC: {test_auc*100:.2f}%')"
   ]
  },
  {
   "cell_type": "markdown",
   "metadata": {},
   "source": [
    "Plot failure cases:"
   ]
  },
  {
   "cell_type": "code",
   "execution_count": null,
   "metadata": {},
   "outputs": [],
   "source": [
    "X_test_subset = X_test[:1000, :]\n",
    "y_test_subset = y_test[:1000]\n",
    "\n",
    "_, probas = model.forward(X_test_subset)\n",
    "test_pred = np.argmax(probas, axis=1)\n",
    "\n",
    "misclassified_images = X_test_subset[y_test_subset != test_pred][:25]\n",
    "misclassified_labels = test_pred[y_test_subset != test_pred][:25]\n",
    "correct_labels = y_test_subset[y_test_subset != test_pred][:25]"
   ]
  },
  {
   "cell_type": "code",
   "execution_count": null,
   "metadata": {},
   "outputs": [],
   "source": [
    "fig, ax = plt.subplots(nrows=5, ncols=5, \n",
    "                       sharex=True, sharey=True, figsize=(8, 8))\n",
    "ax = ax.flatten()\n",
    "for i in range(25):\n",
    "    img = misclassified_images[i].reshape(28, 28)\n",
    "    ax[i].imshow(img, cmap='Greys', interpolation='nearest')\n",
    "    ax[i].set_title(f'{i+1}) '\n",
    "                    f'True: {correct_labels[i]}\\n'\n",
    "                    f' Predicted: {misclassified_labels[i]}')\n",
    "\n",
    "ax[0].set_xticks([])\n",
    "ax[0].set_yticks([])\n",
    "plt.tight_layout()\n",
    "#plt.savefig('figures/11_09.png', dpi=300)\n",
    "plt.show()"
   ]
  },
  {
   "cell_type": "code",
   "execution_count": null,
   "metadata": {},
   "outputs": [],
   "source": [
    "X_test_subset = X_test[:1000, :]\n",
    "y_test_subset = y_test[:1000]\n",
    "\n",
    "_, _, probas = model2L.forward(X_test_subset)\n",
    "test_pred = np.argmax(probas, axis=1)\n",
    "\n",
    "misclassified_images = X_test_subset[y_test_subset != test_pred][:25]\n",
    "misclassified_labels = test_pred[y_test_subset != test_pred][:25]\n",
    "correct_labels = y_test_subset[y_test_subset != test_pred][:25]"
   ]
  },
  {
   "cell_type": "code",
   "execution_count": null,
   "metadata": {},
   "outputs": [],
   "source": [
    "fig, ax = plt.subplots(nrows=5, ncols=5, \n",
    "                       sharex=True, sharey=True, figsize=(8, 8))\n",
    "ax = ax.flatten()\n",
    "for i in range(25):\n",
    "    img = misclassified_images[i].reshape(28, 28)\n",
    "    ax[i].imshow(img, cmap='Greys', interpolation='nearest')\n",
    "    ax[i].set_title(f'{i+1}) '\n",
    "                    f'True: {correct_labels[i]}\\n'\n",
    "                    f' Predicted: {misclassified_labels[i]}')\n",
    "\n",
    "ax[0].set_xticks([])\n",
    "ax[0].set_yticks([])\n",
    "plt.tight_layout()\n",
    "#plt.savefig('figures/11_09.png', dpi=300)\n",
    "plt.show()"
   ]
  },
  {
   "cell_type": "markdown",
   "metadata": {},
   "source": [
    "<br>\n",
    "<br>"
   ]
  },
  {
   "cell_type": "markdown",
   "metadata": {},
   "source": [
    "# Training an artificial neural network"
   ]
  },
  {
   "cell_type": "markdown",
   "metadata": {},
   "source": [
    "..."
   ]
  },
  {
   "cell_type": "markdown",
   "metadata": {},
   "source": [
    "## Computing the loss function"
   ]
  },
  {
   "cell_type": "code",
   "execution_count": null,
   "metadata": {},
   "outputs": [],
   "source": [
    "Image(filename='figures/11_10.png', width=300) "
   ]
  },
  {
   "cell_type": "markdown",
   "metadata": {},
   "source": [
    "<br>\n",
    "<br>"
   ]
  },
  {
   "cell_type": "markdown",
   "metadata": {},
   "source": [
    "## Developing your intuition for backpropagation"
   ]
  },
  {
   "cell_type": "markdown",
   "metadata": {},
   "source": [
    "..."
   ]
  },
  {
   "cell_type": "markdown",
   "metadata": {},
   "source": [
    "## Training neural networks via backpropagation"
   ]
  },
  {
   "cell_type": "code",
   "execution_count": null,
   "metadata": {},
   "outputs": [],
   "source": [
    "Image(filename='./figures/11_11.png', width=400) "
   ]
  },
  {
   "cell_type": "code",
   "execution_count": null,
   "metadata": {},
   "outputs": [],
   "source": [
    "Image(filename='figures/11_12.png', width=500) "
   ]
  },
  {
   "cell_type": "code",
   "execution_count": null,
   "metadata": {},
   "outputs": [],
   "source": [
    "Image(filename='figures/11_13.png', width=500) "
   ]
  },
  {
   "cell_type": "markdown",
   "metadata": {},
   "source": [
    "<br>\n",
    "<br>"
   ]
  },
  {
   "cell_type": "markdown",
   "metadata": {},
   "source": [
    "# Convergence in neural networks"
   ]
  },
  {
   "cell_type": "code",
   "execution_count": null,
   "metadata": {},
   "outputs": [],
   "source": [
    "Image(filename='figures/11_14.png', width=500) "
   ]
  },
  {
   "cell_type": "markdown",
   "metadata": {},
   "source": [
    "<br>\n",
    "<br>"
   ]
  },
  {
   "cell_type": "markdown",
   "metadata": {},
   "source": [
    "..."
   ]
  },
  {
   "cell_type": "markdown",
   "metadata": {},
   "source": [
    "# Summary"
   ]
  },
  {
   "cell_type": "markdown",
   "metadata": {},
   "source": [
    "..."
   ]
  },
  {
   "cell_type": "markdown",
   "metadata": {},
   "source": [
    "---\n",
    "\n",
    "Readers may ignore the next cell."
   ]
  },
  {
   "cell_type": "code",
   "execution_count": null,
   "metadata": {},
   "outputs": [],
   "source": [
    "! python ../.convert_notebook_to_script.py --input ch11.ipynb --output ch11.py"
   ]
  }
 ],
 "metadata": {
  "anaconda-cloud": {},
  "kernelspec": {
   "display_name": "Python 3",
   "language": "python",
   "name": "python3"
  },
  "language_info": {
   "codemirror_mode": {
    "name": "ipython",
    "version": 3
   },
   "file_extension": ".py",
   "mimetype": "text/x-python",
   "name": "python",
   "nbconvert_exporter": "python",
   "pygments_lexer": "ipython3",
   "version": "3.13.0"
  }
 },
 "nbformat": 4,
 "nbformat_minor": 4
}
